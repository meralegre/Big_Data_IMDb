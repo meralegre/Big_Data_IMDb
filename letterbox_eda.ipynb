{
 "cells": [
  {
   "cell_type": "code",
   "execution_count": 39,
   "metadata": {},
   "outputs": [],
   "source": [
    "#!pip install pandas\n",
    "#!pip install seaborn"
   ]
  },
  {
   "cell_type": "code",
   "execution_count": 40,
   "metadata": {},
   "outputs": [],
   "source": [
    "import pandas as pd\n",
    "import matplotlib.pyplot as plt\n",
    "import seaborn as sns"
   ]
  },
  {
   "cell_type": "code",
   "execution_count": 6,
   "metadata": {},
   "outputs": [
    {
     "data": {
      "text/plain": [
       "Index(['movie_name', 'Release Year', 'Reviewer name', 'Clean_Review_date',\n",
       "       'Clean_Review', 'Clean_Comment Count', 'Like count', 'genre'],\n",
       "      dtype='object')"
      ]
     },
     "execution_count": 6,
     "metadata": {},
     "output_type": "execute_result"
    }
   ],
   "source": [
    "letterbox_path = \"outside_data/final_letterboxd_clean.csv\"\n",
    "tomatoes_path = \"outside_data/rotten_tomatoes_critic_reviews.csv\"\n",
    "\n",
    "letterbox_data = pd.read_csv(letterbox_path)\n",
    "letterbox_data.columns"
   ]
  },
  {
   "cell_type": "code",
   "execution_count": 7,
   "metadata": {},
   "outputs": [
    {
     "data": {
      "text/html": [
       "<div>\n",
       "<style scoped>\n",
       "    .dataframe tbody tr th:only-of-type {\n",
       "        vertical-align: middle;\n",
       "    }\n",
       "\n",
       "    .dataframe tbody tr th {\n",
       "        vertical-align: top;\n",
       "    }\n",
       "\n",
       "    .dataframe thead th {\n",
       "        text-align: right;\n",
       "    }\n",
       "</style>\n",
       "<table border=\"1\" class=\"dataframe\">\n",
       "  <thead>\n",
       "    <tr style=\"text-align: right;\">\n",
       "      <th></th>\n",
       "      <th>movie_name</th>\n",
       "      <th>Release Year</th>\n",
       "      <th>Reviewer name</th>\n",
       "      <th>Clean_Review_date</th>\n",
       "      <th>Clean_Review</th>\n",
       "      <th>Clean_Comment Count</th>\n",
       "      <th>Like count</th>\n",
       "      <th>genre</th>\n",
       "    </tr>\n",
       "  </thead>\n",
       "  <tbody>\n",
       "    <tr>\n",
       "      <th>0</th>\n",
       "      <td>Clue</td>\n",
       "      <td>1985</td>\n",
       "      <td>Branson Reese</td>\n",
       "      <td>1996-10-16</td>\n",
       "      <td>My dad got in so much trouble for showing me t...</td>\n",
       "      <td>6</td>\n",
       "      <td>2,286 likes</td>\n",
       "      <td>Comedy</td>\n",
       "    </tr>\n",
       "    <tr>\n",
       "      <th>1</th>\n",
       "      <td>Beetlejuice</td>\n",
       "      <td>1988</td>\n",
       "      <td>Branson Reese</td>\n",
       "      <td>1999-10-21</td>\n",
       "      <td>Thank GOD Tim Burton made this movie in 1988 a...</td>\n",
       "      <td>12</td>\n",
       "      <td>3,304 likes</td>\n",
       "      <td>Comedy</td>\n",
       "    </tr>\n",
       "    <tr>\n",
       "      <th>2</th>\n",
       "      <td>Being John Malkovich</td>\n",
       "      <td>1999</td>\n",
       "      <td>Than Tibbetts</td>\n",
       "      <td>2010-10-04</td>\n",
       "      <td>Malkovich. Malkovich Malkovich Malkovich, Malk...</td>\n",
       "      <td>6</td>\n",
       "      <td>4,300 likes</td>\n",
       "      <td>Comedy</td>\n",
       "    </tr>\n",
       "    <tr>\n",
       "      <th>3</th>\n",
       "      <td>The Muppets</td>\n",
       "      <td>2011</td>\n",
       "      <td>Jeff</td>\n",
       "      <td>2012-03-06</td>\n",
       "      <td>It's fine if you don't like this movie, but it...</td>\n",
       "      <td>31</td>\n",
       "      <td>NaN</td>\n",
       "      <td>Comedy</td>\n",
       "    </tr>\n",
       "    <tr>\n",
       "      <th>4</th>\n",
       "      <td>Mysterious Skin</td>\n",
       "      <td>2004</td>\n",
       "      <td>Cole</td>\n",
       "      <td>2012-03-11</td>\n",
       "      <td>This movie is beautiful, captivating, fascinat...</td>\n",
       "      <td>4</td>\n",
       "      <td>6  23 likes</td>\n",
       "      <td>Drama</td>\n",
       "    </tr>\n",
       "    <tr>\n",
       "      <th>...</th>\n",
       "      <td>...</td>\n",
       "      <td>...</td>\n",
       "      <td>...</td>\n",
       "      <td>...</td>\n",
       "      <td>...</td>\n",
       "      <td>...</td>\n",
       "      <td>...</td>\n",
       "      <td>...</td>\n",
       "    </tr>\n",
       "    <tr>\n",
       "      <th>2832</th>\n",
       "      <td>Drive</td>\n",
       "      <td>2011</td>\n",
       "      <td>k??rsten</td>\n",
       "      <td>NaN</td>\n",
       "      <td>Yes, I just saw it for the first timeYes, I lo...</td>\n",
       "      <td>9</td>\n",
       "      <td>2,160 likes</td>\n",
       "      <td>Action</td>\n",
       "    </tr>\n",
       "    <tr>\n",
       "      <th>2833</th>\n",
       "      <td>Fight Club</td>\n",
       "      <td>1999</td>\n",
       "      <td>hunt??r</td>\n",
       "      <td>NaN</td>\n",
       "      <td>if I was next to brad, I would have dropped th...</td>\n",
       "      <td>19</td>\n",
       "      <td>NaN</td>\n",
       "      <td>Drama</td>\n",
       "    </tr>\n",
       "    <tr>\n",
       "      <th>2834</th>\n",
       "      <td>The Bling Ring</td>\n",
       "      <td>2013</td>\n",
       "      <td>k??rsten</td>\n",
       "      <td>NaN</td>\n",
       "      <td>not a single good shot or outfit in this entir...</td>\n",
       "      <td>30</td>\n",
       "      <td>NaN</td>\n",
       "      <td>Crime</td>\n",
       "    </tr>\n",
       "    <tr>\n",
       "      <th>2835</th>\n",
       "      <td>A Serbian Film</td>\n",
       "      <td>2010</td>\n",
       "      <td>DirkH</td>\n",
       "      <td>NaN</td>\n",
       "      <td>OH MY GOD, LOOK AT HOW CONTROVERSIAL I AM!!!!!!</td>\n",
       "      <td>65</td>\n",
       "      <td>NaN</td>\n",
       "      <td>Horror</td>\n",
       "    </tr>\n",
       "    <tr>\n",
       "      <th>2836</th>\n",
       "      <td>CODA</td>\n",
       "      <td>2021</td>\n",
       "      <td>James (Schaffrillas)</td>\n",
       "      <td>NaN</td>\n",
       "      <td>Crazy how such a cliche and predictable movie ...</td>\n",
       "      <td>32</td>\n",
       "      <td>NaN</td>\n",
       "      <td>Drama</td>\n",
       "    </tr>\n",
       "  </tbody>\n",
       "</table>\n",
       "<p>2837 rows × 8 columns</p>\n",
       "</div>"
      ],
      "text/plain": [
       "                movie_name  Release Year         Reviewer name  \\\n",
       "0                     Clue          1985         Branson Reese   \n",
       "1              Beetlejuice          1988         Branson Reese   \n",
       "2     Being John Malkovich          1999         Than Tibbetts   \n",
       "3              The Muppets          2011                  Jeff   \n",
       "4          Mysterious Skin          2004                  Cole   \n",
       "...                    ...           ...                   ...   \n",
       "2832                 Drive          2011              k??rsten   \n",
       "2833            Fight Club          1999               hunt??r   \n",
       "2834        The Bling Ring          2013              k??rsten   \n",
       "2835        A Serbian Film          2010                 DirkH   \n",
       "2836                  CODA          2021  James (Schaffrillas)   \n",
       "\n",
       "     Clean_Review_date                                       Clean_Review  \\\n",
       "0           1996-10-16  My dad got in so much trouble for showing me t...   \n",
       "1           1999-10-21  Thank GOD Tim Burton made this movie in 1988 a...   \n",
       "2           2010-10-04  Malkovich. Malkovich Malkovich Malkovich, Malk...   \n",
       "3           2012-03-06  It's fine if you don't like this movie, but it...   \n",
       "4           2012-03-11  This movie is beautiful, captivating, fascinat...   \n",
       "...                ...                                                ...   \n",
       "2832               NaN  Yes, I just saw it for the first timeYes, I lo...   \n",
       "2833               NaN  if I was next to brad, I would have dropped th...   \n",
       "2834               NaN  not a single good shot or outfit in this entir...   \n",
       "2835               NaN    OH MY GOD, LOOK AT HOW CONTROVERSIAL I AM!!!!!!   \n",
       "2836               NaN  Crazy how such a cliche and predictable movie ...   \n",
       "\n",
       "     Clean_Comment Count     Like count   genre  \n",
       "0                      6    2,286 likes  Comedy  \n",
       "1                     12    3,304 likes  Comedy  \n",
       "2                      6    4,300 likes  Comedy  \n",
       "3                     31            NaN  Comedy  \n",
       "4                      4    6  23 likes   Drama  \n",
       "...                  ...            ...     ...  \n",
       "2832                   9    2,160 likes  Action  \n",
       "2833                  19            NaN   Drama  \n",
       "2834                  30            NaN   Crime  \n",
       "2835                  65            NaN  Horror  \n",
       "2836                  32            NaN   Drama  \n",
       "\n",
       "[2837 rows x 8 columns]"
      ]
     },
     "execution_count": 7,
     "metadata": {},
     "output_type": "execute_result"
    }
   ],
   "source": [
    "letterbox_data"
   ]
  },
  {
   "cell_type": "code",
   "execution_count": 9,
   "metadata": {},
   "outputs": [],
   "source": [
    "letterbox_data = letterbox_data.drop(columns=\"Reviewer name\")"
   ]
  },
  {
   "cell_type": "code",
   "execution_count": 12,
   "metadata": {},
   "outputs": [
    {
     "data": {
      "text/plain": [
       "movie_name               0\n",
       "Release Year             0\n",
       "Clean_Review_date      136\n",
       "Clean_Review             0\n",
       "Clean_Comment Count    219\n",
       "Like count             775\n",
       "genre                    0\n",
       "dtype: int64"
      ]
     },
     "execution_count": 12,
     "metadata": {},
     "output_type": "execute_result"
    }
   ],
   "source": [
    "letterbox_data.isnull().sum()"
   ]
  },
  {
   "cell_type": "markdown",
   "metadata": {},
   "source": [
    "We can check which movies have the missing year and add the year the movie came out or a random year in a span of 5 years.\n",
    "Even though I am not sure how important the year would be for our case so we might as well drop it too.\n",
    "\n",
    "Not really sure what `Clean_Comment Count` is but since we already have a like count, might as well drop it\n",
    "\n",
    "I think the `Likes` would be a good addition, can add more to the review when we do analysis to it. \n",
    "For what I see the `Likes` translate to people who liked the review, does not mean that the movie is god or bad.\n",
    "As an idea, we could check the movies that have the most amount of likes as see what kind of review it is with sentiment analysis.\n",
    "Maybe the movie was so horrible that everyone agreed with it, and viceversa."
   ]
  },
  {
   "cell_type": "code",
   "execution_count": 14,
   "metadata": {},
   "outputs": [
    {
     "data": {
      "text/plain": [
       "0         2,286 likes\n",
       "1         3,304 likes\n",
       "2         4,300 likes\n",
       "3                 NaN\n",
       "4         6  23 likes\n",
       "            ...      \n",
       "2832      2,160 likes\n",
       "2833              NaN\n",
       "2834              NaN\n",
       "2835              NaN\n",
       "2836              NaN\n",
       "Name: Like count, Length: 2837, dtype: object"
      ]
     },
     "execution_count": 14,
     "metadata": {},
     "output_type": "execute_result"
    }
   ],
   "source": [
    "letterbox_data[\"Like count\"]"
   ]
  },
  {
   "cell_type": "code",
   "execution_count": 23,
   "metadata": {},
   "outputs": [
    {
     "data": {
      "text/plain": [
       "0       22860\n",
       "1       33040\n",
       "2       43000\n",
       "3        <NA>\n",
       "4        6230\n",
       "        ...  \n",
       "2832    21600\n",
       "2833     <NA>\n",
       "2834     <NA>\n",
       "2835     <NA>\n",
       "2836     <NA>\n",
       "Name: Like count, Length: 2837, dtype: Int64"
      ]
     },
     "execution_count": 23,
     "metadata": {},
     "output_type": "execute_result"
    }
   ],
   "source": [
    "def clean_like_counts(col):\n",
    "    col = col.astype(str).str.replace(r\"[^\\d]\", \"\", regex=True)  # Remove non-numeric characters\n",
    "    col = pd.to_numeric(col, errors='coerce')  # Convert to numeric, setting errors to NaN\n",
    "    return col\n",
    "\n",
    "letterbox_data[\"Like count\"] = clean_like_counts(letterbox_data[\"Like count\"])\n",
    "letterbox_data[\"Like count\"] = letterbox_data[\"Like count\"].astype('Int64')\n",
    "letterbox_data[\"Like count\"]"
   ]
  },
  {
   "cell_type": "markdown",
   "metadata": {},
   "source": [
    "Decided to turn the column `Like count` into integer so that it is easy to work with"
   ]
  },
  {
   "cell_type": "code",
   "execution_count": 27,
   "metadata": {},
   "outputs": [
    {
     "data": {
      "text/html": [
       "<div>\n",
       "<style scoped>\n",
       "    .dataframe tbody tr th:only-of-type {\n",
       "        vertical-align: middle;\n",
       "    }\n",
       "\n",
       "    .dataframe tbody tr th {\n",
       "        vertical-align: top;\n",
       "    }\n",
       "\n",
       "    .dataframe thead th {\n",
       "        text-align: right;\n",
       "    }\n",
       "</style>\n",
       "<table border=\"1\" class=\"dataframe\">\n",
       "  <thead>\n",
       "    <tr style=\"text-align: right;\">\n",
       "      <th></th>\n",
       "      <th>movie_name</th>\n",
       "      <th>Release Year</th>\n",
       "      <th>Clean_Review_date</th>\n",
       "      <th>Clean_Review</th>\n",
       "      <th>Clean_Comment Count</th>\n",
       "      <th>Like count</th>\n",
       "      <th>genre</th>\n",
       "    </tr>\n",
       "  </thead>\n",
       "  <tbody>\n",
       "    <tr>\n",
       "      <th>655</th>\n",
       "      <td>Aftersun</td>\n",
       "      <td>2022</td>\n",
       "      <td>2020-01-12</td>\n",
       "      <td>This review may contain spoilers.</td>\n",
       "      <td>130</td>\n",
       "      <td>224460</td>\n",
       "      <td>Drama</td>\n",
       "    </tr>\n",
       "    <tr>\n",
       "      <th>1123</th>\n",
       "      <td>Shang-Chi and the Legend of the Ten Rings</td>\n",
       "      <td>2021</td>\n",
       "      <td>2021-09-03</td>\n",
       "      <td>Another Marvel movie that would be twice as go...</td>\n",
       "      <td>6</td>\n",
       "      <td>10</td>\n",
       "      <td>Action</td>\n",
       "    </tr>\n",
       "  </tbody>\n",
       "</table>\n",
       "</div>"
      ],
      "text/plain": [
       "                                     movie_name  Release Year  \\\n",
       "655                                    Aftersun          2022   \n",
       "1123  Shang-Chi and the Legend of the Ten Rings          2021   \n",
       "\n",
       "     Clean_Review_date                                       Clean_Review  \\\n",
       "655         2020-01-12                  This review may contain spoilers.   \n",
       "1123        2021-09-03  Another Marvel movie that would be twice as go...   \n",
       "\n",
       "     Clean_Comment Count  Like count   genre  \n",
       "655                  130      224460   Drama  \n",
       "1123                   6          10  Action  "
      ]
     },
     "execution_count": 27,
     "metadata": {},
     "output_type": "execute_result"
    }
   ],
   "source": [
    "max_like_count = letterbox_data[letterbox_data['Like count'] == letterbox_data['Like count'].max()]\n",
    "min_like_count = letterbox_data[letterbox_data['Like count'] == letterbox_data['Like count'].min()]\n",
    "\n",
    "max_min_likes = pd.concat([max_like_count, min_like_count])\n",
    "max_min_likes"
   ]
  },
  {
   "cell_type": "code",
   "execution_count": 29,
   "metadata": {},
   "outputs": [
    {
     "data": {
      "text/html": [
       "<div>\n",
       "<style scoped>\n",
       "    .dataframe tbody tr th:only-of-type {\n",
       "        vertical-align: middle;\n",
       "    }\n",
       "\n",
       "    .dataframe tbody tr th {\n",
       "        vertical-align: top;\n",
       "    }\n",
       "\n",
       "    .dataframe thead th {\n",
       "        text-align: right;\n",
       "    }\n",
       "</style>\n",
       "<table border=\"1\" class=\"dataframe\">\n",
       "  <thead>\n",
       "    <tr style=\"text-align: right;\">\n",
       "      <th></th>\n",
       "      <th>movie_name</th>\n",
       "      <th>Release Year</th>\n",
       "      <th>Clean_Review</th>\n",
       "      <th>Like count</th>\n",
       "      <th>genre</th>\n",
       "    </tr>\n",
       "  </thead>\n",
       "  <tbody>\n",
       "    <tr>\n",
       "      <th>0</th>\n",
       "      <td>Clue</td>\n",
       "      <td>1985</td>\n",
       "      <td>My dad got in so much trouble for showing me t...</td>\n",
       "      <td>22860</td>\n",
       "      <td>Comedy</td>\n",
       "    </tr>\n",
       "    <tr>\n",
       "      <th>1</th>\n",
       "      <td>Beetlejuice</td>\n",
       "      <td>1988</td>\n",
       "      <td>Thank GOD Tim Burton made this movie in 1988 a...</td>\n",
       "      <td>33040</td>\n",
       "      <td>Comedy</td>\n",
       "    </tr>\n",
       "    <tr>\n",
       "      <th>2</th>\n",
       "      <td>Being John Malkovich</td>\n",
       "      <td>1999</td>\n",
       "      <td>Malkovich. Malkovich Malkovich Malkovich, Malk...</td>\n",
       "      <td>43000</td>\n",
       "      <td>Comedy</td>\n",
       "    </tr>\n",
       "    <tr>\n",
       "      <th>3</th>\n",
       "      <td>The Muppets</td>\n",
       "      <td>2011</td>\n",
       "      <td>It's fine if you don't like this movie, but it...</td>\n",
       "      <td>&lt;NA&gt;</td>\n",
       "      <td>Comedy</td>\n",
       "    </tr>\n",
       "    <tr>\n",
       "      <th>4</th>\n",
       "      <td>Mysterious Skin</td>\n",
       "      <td>2004</td>\n",
       "      <td>This movie is beautiful, captivating, fascinat...</td>\n",
       "      <td>6230</td>\n",
       "      <td>Drama</td>\n",
       "    </tr>\n",
       "    <tr>\n",
       "      <th>...</th>\n",
       "      <td>...</td>\n",
       "      <td>...</td>\n",
       "      <td>...</td>\n",
       "      <td>...</td>\n",
       "      <td>...</td>\n",
       "    </tr>\n",
       "    <tr>\n",
       "      <th>2832</th>\n",
       "      <td>Drive</td>\n",
       "      <td>2011</td>\n",
       "      <td>Yes, I just saw it for the first timeYes, I lo...</td>\n",
       "      <td>21600</td>\n",
       "      <td>Action</td>\n",
       "    </tr>\n",
       "    <tr>\n",
       "      <th>2833</th>\n",
       "      <td>Fight Club</td>\n",
       "      <td>1999</td>\n",
       "      <td>if I was next to brad, I would have dropped th...</td>\n",
       "      <td>&lt;NA&gt;</td>\n",
       "      <td>Drama</td>\n",
       "    </tr>\n",
       "    <tr>\n",
       "      <th>2834</th>\n",
       "      <td>The Bling Ring</td>\n",
       "      <td>2013</td>\n",
       "      <td>not a single good shot or outfit in this entir...</td>\n",
       "      <td>&lt;NA&gt;</td>\n",
       "      <td>Crime</td>\n",
       "    </tr>\n",
       "    <tr>\n",
       "      <th>2835</th>\n",
       "      <td>A Serbian Film</td>\n",
       "      <td>2010</td>\n",
       "      <td>OH MY GOD, LOOK AT HOW CONTROVERSIAL I AM!!!!!!</td>\n",
       "      <td>&lt;NA&gt;</td>\n",
       "      <td>Horror</td>\n",
       "    </tr>\n",
       "    <tr>\n",
       "      <th>2836</th>\n",
       "      <td>CODA</td>\n",
       "      <td>2021</td>\n",
       "      <td>Crazy how such a cliche and predictable movie ...</td>\n",
       "      <td>&lt;NA&gt;</td>\n",
       "      <td>Drama</td>\n",
       "    </tr>\n",
       "  </tbody>\n",
       "</table>\n",
       "<p>2837 rows × 5 columns</p>\n",
       "</div>"
      ],
      "text/plain": [
       "                movie_name  Release Year  \\\n",
       "0                     Clue          1985   \n",
       "1              Beetlejuice          1988   \n",
       "2     Being John Malkovich          1999   \n",
       "3              The Muppets          2011   \n",
       "4          Mysterious Skin          2004   \n",
       "...                    ...           ...   \n",
       "2832                 Drive          2011   \n",
       "2833            Fight Club          1999   \n",
       "2834        The Bling Ring          2013   \n",
       "2835        A Serbian Film          2010   \n",
       "2836                  CODA          2021   \n",
       "\n",
       "                                           Clean_Review  Like count   genre  \n",
       "0     My dad got in so much trouble for showing me t...       22860  Comedy  \n",
       "1     Thank GOD Tim Burton made this movie in 1988 a...       33040  Comedy  \n",
       "2     Malkovich. Malkovich Malkovich Malkovich, Malk...       43000  Comedy  \n",
       "3     It's fine if you don't like this movie, but it...        <NA>  Comedy  \n",
       "4     This movie is beautiful, captivating, fascinat...        6230   Drama  \n",
       "...                                                 ...         ...     ...  \n",
       "2832  Yes, I just saw it for the first timeYes, I lo...       21600  Action  \n",
       "2833  if I was next to brad, I would have dropped th...        <NA>   Drama  \n",
       "2834  not a single good shot or outfit in this entir...        <NA>   Crime  \n",
       "2835    OH MY GOD, LOOK AT HOW CONTROVERSIAL I AM!!!!!!        <NA>  Horror  \n",
       "2836  Crazy how such a cliche and predictable movie ...        <NA>   Drama  \n",
       "\n",
       "[2837 rows x 5 columns]"
      ]
     },
     "execution_count": 29,
     "metadata": {},
     "output_type": "execute_result"
    }
   ],
   "source": [
    "letterbox_data = letterbox_data.drop(columns=[\"Clean_Comment Count\", \"Clean_Review_date\"])\n",
    "letterbox_data"
   ]
  },
  {
   "cell_type": "code",
   "execution_count": 31,
   "metadata": {},
   "outputs": [
    {
     "data": {
      "text/html": [
       "<div>\n",
       "<style scoped>\n",
       "    .dataframe tbody tr th:only-of-type {\n",
       "        vertical-align: middle;\n",
       "    }\n",
       "\n",
       "    .dataframe tbody tr th {\n",
       "        vertical-align: top;\n",
       "    }\n",
       "\n",
       "    .dataframe thead th {\n",
       "        text-align: right;\n",
       "    }\n",
       "</style>\n",
       "<table border=\"1\" class=\"dataframe\">\n",
       "  <thead>\n",
       "    <tr style=\"text-align: right;\">\n",
       "      <th></th>\n",
       "      <th>Release Year</th>\n",
       "      <th>Like count</th>\n",
       "    </tr>\n",
       "  </thead>\n",
       "  <tbody>\n",
       "    <tr>\n",
       "      <th>count</th>\n",
       "      <td>2837.000000</td>\n",
       "      <td>2062.0</td>\n",
       "    </tr>\n",
       "    <tr>\n",
       "      <th>mean</th>\n",
       "      <td>2013.238280</td>\n",
       "      <td>37284.752667</td>\n",
       "    </tr>\n",
       "    <tr>\n",
       "      <th>std</th>\n",
       "      <td>13.283033</td>\n",
       "      <td>32461.824025</td>\n",
       "    </tr>\n",
       "    <tr>\n",
       "      <th>min</th>\n",
       "      <td>1902.000000</td>\n",
       "      <td>10.0</td>\n",
       "    </tr>\n",
       "    <tr>\n",
       "      <th>25%</th>\n",
       "      <td>2008.000000</td>\n",
       "      <td>22080.0</td>\n",
       "    </tr>\n",
       "    <tr>\n",
       "      <th>50%</th>\n",
       "      <td>2020.000000</td>\n",
       "      <td>26670.0</td>\n",
       "    </tr>\n",
       "    <tr>\n",
       "      <th>75%</th>\n",
       "      <td>2022.000000</td>\n",
       "      <td>42350.0</td>\n",
       "    </tr>\n",
       "    <tr>\n",
       "      <th>max</th>\n",
       "      <td>2023.000000</td>\n",
       "      <td>224460.0</td>\n",
       "    </tr>\n",
       "  </tbody>\n",
       "</table>\n",
       "</div>"
      ],
      "text/plain": [
       "       Release Year    Like count\n",
       "count   2837.000000        2062.0\n",
       "mean    2013.238280  37284.752667\n",
       "std       13.283033  32461.824025\n",
       "min     1902.000000          10.0\n",
       "25%     2008.000000       22080.0\n",
       "50%     2020.000000       26670.0\n",
       "75%     2022.000000       42350.0\n",
       "max     2023.000000      224460.0"
      ]
     },
     "execution_count": 31,
     "metadata": {},
     "output_type": "execute_result"
    }
   ],
   "source": [
    "summary_stats = letterbox_data.describe()\n",
    "summary_stats"
   ]
  },
  {
   "cell_type": "code",
   "execution_count": 32,
   "metadata": {},
   "outputs": [
    {
     "data": {
      "text/plain": [
       "genre\n",
       "Drama          726\n",
       "Horror         326\n",
       "Comedy         317\n",
       "Action         283\n",
       "Sci-Fi         218\n",
       "Animation      214\n",
       "Romance        211\n",
       "Thriller       125\n",
       "Mystery        118\n",
       "Crime           84\n",
       "Fantasy         67\n",
       "Musical         65\n",
       "Adventure       22\n",
       "Documentary     20\n",
       "Maverick        16\n",
       "War             13\n",
       "Biography        7\n",
       "Western          4\n",
       "Family           1\n",
       "Name: count, dtype: int64"
      ]
     },
     "execution_count": 32,
     "metadata": {},
     "output_type": "execute_result"
    }
   ],
   "source": [
    "# Count of movies per genre\n",
    "genre_counts = letterbox_data[\"genre\"].value_counts()\n",
    "genre_counts"
   ]
  },
  {
   "cell_type": "code",
   "execution_count": 35,
   "metadata": {},
   "outputs": [
    {
     "data": {
      "text/plain": [
       "Release Year\n",
       "2022    761\n",
       "2021    475\n",
       "2019    176\n",
       "2020    166\n",
       "2018     88\n",
       "2014     86\n",
       "1999     71\n",
       "2004     63\n",
       "2009     62\n",
       "2016     62\n",
       "2010     58\n",
       "2001     57\n",
       "2013     56\n",
       "2023     46\n",
       "2006     42\n",
       "2000     42\n",
       "2005     41\n",
       "2003     38\n",
       "2015     37\n",
       "2008     32\n",
       "2012     31\n",
       "1995     26\n",
       "1989     25\n",
       "2002     25\n",
       "1996     23\n",
       "1986     23\n",
       "2011     23\n",
       "1994     22\n",
       "1985     17\n",
       "1998     16\n",
       "1991     14\n",
       "1993     14\n",
       "1988     13\n",
       "1992     12\n",
       "1990     11\n",
       "1980      9\n",
       "1983      9\n",
       "1982      8\n",
       "1984      6\n",
       "1960      5\n",
       "1968      5\n",
       "1981      4\n",
       "1941      4\n",
       "1902      3\n",
       "1954      3\n",
       "1929      3\n",
       "1946      3\n",
       "1961      3\n",
       "1966      3\n",
       "1942      2\n",
       "1952      2\n",
       "1965      2\n",
       "1939      2\n",
       "1958      1\n",
       "1964      1\n",
       "1948      1\n",
       "1962      1\n",
       "1959      1\n",
       "1963      1\n",
       "1922      1\n",
       "Name: count, dtype: int64"
      ]
     },
     "execution_count": 35,
     "metadata": {},
     "output_type": "execute_result"
    }
   ],
   "source": [
    "# Distribution of reviews over the years\n",
    "release_year_counts = letterbox_data[\"Release Year\"].value_counts()\n",
    "release_year_counts"
   ]
  },
  {
   "cell_type": "code",
   "execution_count": 44,
   "metadata": {},
   "outputs": [
    {
     "name": "stderr",
     "output_type": "stream",
     "text": [
      "/var/folders/6f/_m3vtyy92m94t_l4qyl157240000gn/T/ipykernel_3200/446317636.py:5: FutureWarning: \n",
      "\n",
      "Passing `palette` without assigning `hue` is deprecated and will be removed in v0.14.0. Assign the `x` variable to `hue` and set `legend=False` for the same effect.\n",
      "\n",
      "  ax = sns.barplot(x=genre_counts.index, y=genre_counts.values, palette=\"viridis\")\n"
     ]
    },
    {
     "data": {
      "image/png": "[encoded data removed]",
      "text/plain": [
       "<Figure size 1000x600 with 1 Axes>"
      ]
     },
     "metadata": {},
     "output_type": "display_data"
    }
   ],
   "source": [
    "plt.style.use(\"ggplot\")\n",
    "\n",
    "# Improved plot: Movie count per genre\n",
    "plt.figure(figsize=(10, 6))\n",
    "ax = sns.barplot(x=genre_counts.index, y=genre_counts.values, palette=\"viridis\")\n",
    "plt.xlabel(\"Genre\", fontsize=12)\n",
    "plt.ylabel(\"Number of Movies\", fontsize=12)\n",
    "plt.title(\"Movie Count per Genre\", fontsize=14, fontweight='bold')\n",
    "plt.xticks(rotation=45)\n",
    "plt.grid(axis='y', linestyle='--', alpha=0.7)\n",
    "\n",
    "#  legend\n",
    "for i, p in enumerate(ax.patches):\n",
    "    ax.annotate(f\"{int(p.get_height())}\", (p.get_x() + p.get_width() / 2, p.get_height()),\n",
    "                ha='center', va='bottom', fontsize=11, fontweight='bold')\n",
    "\n",
    "plt.show()"
   ]
  },
  {
   "cell_type": "code",
   "execution_count": 47,
   "metadata": {},
   "outputs": [
    {
     "name": "stderr",
     "output_type": "stream",
     "text": [
      "/var/folders/6f/_m3vtyy92m94t_l4qyl157240000gn/T/ipykernel_3200/1723709604.py:3: FutureWarning: \n",
      "\n",
      "Passing `palette` without assigning `hue` is deprecated and will be removed in v0.14.0. Assign the `x` variable to `hue` and set `legend=False` for the same effect.\n",
      "\n",
      "  ax = sns.barplot(x=release_year_counts.index, y=release_year_counts.values, palette=\"magma\")\n"
     ]
    },
    {
     "data": {
      "image/png": "[encoded data removed]",
      "text/plain": [
       "<Figure size 1200x600 with 1 Axes>"
      ]
     },
     "metadata": {},
     "output_type": "display_data"
    }
   ],
   "source": [
    "# Improved plot: Distribution of movies by release year\n",
    "plt.figure(figsize=(12, 6))\n",
    "ax = sns.barplot(x=release_year_counts.index, y=release_year_counts.values, palette=\"magma\")\n",
    "plt.xlabel(\"Release Year\", fontsize=12)\n",
    "plt.ylabel(\"Number of Movies\", fontsize=12)\n",
    "plt.title(\"Distribution of Movies by Release Year\", fontsize=14, fontweight='bold')\n",
    "plt.xticks(rotation=45)\n",
    "plt.grid(axis='y', linestyle='--', alpha=0.7)\n",
    "\n",
    "# legend\n",
    "for i, p in enumerate(ax.patches):\n",
    "    ax.annotate(f\"{int(p.get_height())}\", (p.get_x() + p.get_width() / 2, p.get_height()),\n",
    "                ha='center', va='bottom', fontsize=7, fontweight='bold')\n",
    "plt.show()"
   ]
  },
  {
   "cell_type": "code",
   "execution_count": null,
   "metadata": {},
   "outputs": [],
   "source": []
  }
 ],
 "metadata": {
  "kernelspec": {
   "display_name": "Python 3.13.0 64-bit",
   "language": "python",
   "name": "python3"
  },
  "language_info": {
   "codemirror_mode": {
    "name": "ipython",
    "version": 3
   },
   "file_extension": ".py",
   "mimetype": "text/x-python",
   "name": "python",
   "nbconvert_exporter": "python",
   "pygments_lexer": "ipython3",
   "version": "3.13.0"
  },
  "orig_nbformat": 4,
  "vscode": {
   "interpreter": {
    "hash": "551fd68e30ca91e93e17c4a026561b6b886979137c5fe7e80f232fda1837785b"
   }
  }
 },
 "nbformat": 4,
 "nbformat_minor": 2
}
