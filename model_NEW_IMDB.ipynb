{
 "cells": [
  {
   "cell_type": "markdown",
   "id": "549ed87a-b039-4c94-b186-349fc1474306",
   "metadata": {},
   "source": [
    "IMDB Baseline Model (Structured Data Only)\n",
    "\n",
    "This notebook trains a baseline model to predict whether a movie is highly rated or not (`label` column), using only structured features from the dataset.\n",
    "\n",
    "We are **NOT** using review text or sentiment analysis here. This version focuses on numerical and categorical data like votes, year, and Rotten Tomatoes ratings.\n"
   ]
  },
  {
   "cell_type": "markdown",
   "id": "61087145-4087-42c4-8622-aaa4b85a2e82",
   "metadata": {},
   "source": [
    "## **Step 1: Load Data & Initialize Spark**\r\n",
    "\r\n",
    "We start by launching a Spark session and loading the cleaned dataset. The dataset includes movie-level information like `numVotes`, `genre`, `tomatometer_rating`, etc.\r\n"
   ]
  },
  {
   "cell_type": "code",
   "execution_count": 1,
   "id": "1e00b244-0390-44e0-be7a-57ef821914f1",
   "metadata": {},
   "outputs": [
    {
     "name": "stdout",
     "output_type": "stream",
     "text": [
      "root\n",
      " |-- tconst: string (nullable = true)\n",
      " |-- movie_title: string (nullable = true)\n",
      " |-- year: integer (nullable = true)\n",
      " |-- numVotes: integer (nullable = true)\n",
      " |-- label: boolean (nullable = true)\n",
      " |-- genre: string (nullable = true)\n",
      " |-- content_rating: string (nullable = true)\n",
      " |-- production_company: string (nullable = true)\n",
      " |-- tomatometer_status: integer (nullable = true)\n",
      " |-- tomatometer_rating: integer (nullable = true)\n",
      " |-- audience_status: integer (nullable = true)\n",
      " |-- audience_rating: integer (nullable = true)\n",
      " |-- review_score: string (nullable = true)\n",
      " |-- like_count: double (nullable = true)\n",
      " |-- label_int: integer (nullable = true)\n",
      " |-- reviews: string (nullable = true)\n",
      " |-- review_lemmatized: string (nullable = true)\n",
      "\n",
      "+---------+------------------+----+--------+-----+-------+--------------+------------------+------------------+------------------+---------------+---------------+------------+----------+---------+--------------------+--------------------+\n",
      "|   tconst|       movie_title|year|numVotes|label|  genre|content_rating|production_company|tomatometer_status|tomatometer_rating|audience_status|audience_rating|review_score|like_count|label_int|             reviews|   review_lemmatized|\n",
      "+---------+------------------+----+--------+-----+-------+--------------+------------------+------------------+------------------+---------------+---------------+------------+----------+---------+--------------------+--------------------+\n",
      "|tt0016029|the little colonel|1935|    1646| true|Unknown|       Unknown|           Unknown|                 1|                78|              1|             80|     Unknown|       0.0|        1|THE LITTLE COLONE...|littl colonel fox...|\n",
      "|tt0016029|the little colonel|1935|    1646| true|Unknown|       Unknown|           Unknown|                 1|                78|              1|             80|     Unknown|       0.0|        1|It's odd that Shi...|odd shirley templ...|\n",
      "|tt0016029|the little colonel|1935|    1646| true|Unknown|       Unknown|           Unknown|                 1|                78|              1|             80|     Unknown|       0.0|        1|With all of her u...|usual show steal ...|\n",
      "|tt0016029|the little colonel|1935|    1646| true|Unknown|       Unknown|           Unknown|                 1|                78|              1|             80|     Unknown|       0.0|        1|There will never ...|never child star ...|\n",
      "|tt0017961|         happiness|1935|    1080| true|Unknown|       Unknown|           Unknown|                 1|                78|              1|             80|     Unknown|       0.0|        1|I really love sil...|realli love silen...|\n",
      "+---------+------------------+----+--------+-----+-------+--------------+------------------+------------------+------------------+---------------+---------------+------------+----------+---------+--------------------+--------------------+\n",
      "only showing top 5 rows\n",
      "\n"
     ]
    }
   ],
   "source": [
    "from pyspark.sql import SparkSession\n",
    "\n",
    "# Start Spark session\n",
    "spark = SparkSession.builder.appName(\"IMDB_Baseline_Model\").getOrCreate()\n",
    "\n",
    "# Load final cleaned dataset (structured data only)\n",
    "df = spark.read.csv(\"final_cleaned_df.csv\", header=True, inferSchema=True)\n",
    "\n",
    "# Quick check on columns\n",
    "df.printSchema()\n",
    "df.show(5)\n"
   ]
  },
  {
   "cell_type": "markdown",
   "id": "b893b6ba-0507-4010-b854-96a29a103bb5",
   "metadata": {},
   "source": [
    "\n",
    "## **Step 2: Encode Categorical Variables**\n",
    "\n",
    "Some columns are categorical (e.g., `genre`, `tomatometer_status`, `audience_status`).  \n",
    "These are converted into numerical values using **StringIndexer** so they can be used as inputs to the machine learning model.\n",
    "\n"
   ]
  },
  {
   "cell_type": "code",
   "execution_count": 3,
   "id": "8e68f268-f76e-49b8-b520-dc8271611124",
   "metadata": {},
   "outputs": [
    {
     "name": "stdout",
     "output_type": "stream",
     "text": [
      "+-------+-------------+------------------+--------------------------+---------------+-----------------------+\n",
      "|  genre|genre_indexed|tomatometer_status|tomatometer_status_indexed|audience_status|audience_status_indexed|\n",
      "+-------+-------------+------------------+--------------------------+---------------+-----------------------+\n",
      "|Unknown|          0.0|                 1|                       0.0|              1|                    0.0|\n",
      "|Unknown|          0.0|                 1|                       0.0|              1|                    0.0|\n",
      "|Unknown|          0.0|                 1|                       0.0|              1|                    0.0|\n",
      "|Unknown|          0.0|                 1|                       0.0|              1|                    0.0|\n",
      "|Unknown|          0.0|                 1|                       0.0|              1|                    0.0|\n",
      "+-------+-------------+------------------+--------------------------+---------------+-----------------------+\n",
      "only showing top 5 rows\n",
      "\n"
     ]
    }
   ],
   "source": [
    "from pyspark.ml.feature import StringIndexer\n",
    "\n",
    "# Index genre, tomatometer_status, and audience_status\n",
    "genre_indexer = StringIndexer(inputCol=\"genre\", outputCol=\"genre_indexed\", handleInvalid=\"keep\")\n",
    "tomatometer_indexer = StringIndexer(inputCol=\"tomatometer_status\", outputCol=\"tomatometer_status_indexed\", handleInvalid=\"keep\")\n",
    "audience_indexer = StringIndexer(inputCol=\"audience_status\", outputCol=\"audience_status_indexed\", handleInvalid=\"keep\")\n",
    "\n",
    "# Apply indexers\n",
    "df = genre_indexer.fit(df).transform(df)\n",
    "df = tomatometer_indexer.fit(df).transform(df)\n",
    "df = audience_indexer.fit(df).transform(df)\n",
    "\n",
    "df.select(\"genre\", \"genre_indexed\", \"tomatometer_status\", \"tomatometer_status_indexed\", \"audience_status\", \"audience_status_indexed\").show(5)\n"
   ]
  },
  {
   "cell_type": "markdown",
   "id": "2c72cd3a-e3f6-43bf-a54e-f2fb3c84bfc4",
   "metadata": {},
   "source": [
    "## **Step 3: Assemble Features**\r\n",
    "\r\n",
    "All selected features (e.g., `numVotes`, `year`, `genre_indexed`, `tomatometer_rating`, etc.) are combined into a single `features` vector using **VectorAssembler**, which is the format Spark ML models expect.\r\n"
   ]
  },
  {
   "cell_type": "code",
   "execution_count": 4,
   "id": "669b9a26-a4f9-4a1d-a214-9b1b9cd36db7",
   "metadata": {},
   "outputs": [
    {
     "name": "stdout",
     "output_type": "stream",
     "text": [
      "+--------------------+-----+\n",
      "|            features|label|\n",
      "+--------------------+-----+\n",
      "|[1646.0,1935.0,78...| true|\n",
      "|[1646.0,1935.0,78...| true|\n",
      "|[1646.0,1935.0,78...| true|\n",
      "|[1646.0,1935.0,78...| true|\n",
      "|[1080.0,1935.0,78...| true|\n",
      "+--------------------+-----+\n",
      "only showing top 5 rows\n",
      "\n"
     ]
    }
   ],
   "source": [
    "from pyspark.ml.feature import VectorAssembler\n",
    "\n",
    "# Define features\n",
    "feature_cols = [\"numVotes\", \"year\", \"tomatometer_rating\", \"audience_rating\", \n",
    "                \"genre_indexed\", \"tomatometer_status_indexed\", \"audience_status_indexed\"]\n",
    "\n",
    "# Assemble into a feature vector\n",
    "assembler = VectorAssembler(inputCols=feature_cols, outputCol=\"features\")\n",
    "\n",
    "df_ml = assembler.transform(df).select(\"features\", \"label\")\n",
    "df_ml.show(5)\n"
   ]
  },
  {
   "cell_type": "markdown",
   "id": "f995d6a9-a6fd-4ba1-8dba-416561b34daa",
   "metadata": {},
   "source": [
    "## **Step 4: Convert Target Column + : Split Data**\n",
    "\n",
    "The target variable `label` is currently a boolean (True/False) and needs to be converted to integers (0 or 1) to work with **GBTClassifier**.\n",
    "\n",
    "We split the dataset into:\r\n",
    "- **80% training data** to train the model  \r\n",
    "- **20% testing data** to evaluate the model performance.\r\n"
   ]
  },
  {
   "cell_type": "code",
   "execution_count": 5,
   "id": "15f92177-f2ca-4f4e-af35-552cb6aae7ba",
   "metadata": {},
   "outputs": [],
   "source": [
    "from pyspark.sql.functions import col\n",
    "\n",
    "# Convert label to Integer FIRST\n",
    "df = df.withColumn(\"label\", col(\"label\").cast(\"integer\"))\n",
    "\n",
    "# Assemble features AFTER fixing label\n",
    "assembler = VectorAssembler(inputCols=feature_cols, outputCol=\"features\")\n",
    "df_ml = assembler.transform(df).select(\"features\", \"label\")\n",
    "\n",
    "# Now split data\n",
    "train_data, test_data = df_ml.randomSplit([0.8, 0.2], seed=42)\n"
   ]
  },
  {
   "cell_type": "markdown",
   "id": "c075ccb2-34ae-420a-baae-dc88cc7f684b",
   "metadata": {},
   "source": [
    "## **Step 5: Train the Model**\r\n",
    "\r\n",
    "We train a **Gradient Boosted Trees Classifier (GBTClassifier)** using Spark MLlib, which is effective for structured/tabular data.\r\n"
   ]
  },
  {
   "cell_type": "code",
   "execution_count": 6,
   "id": "a215a79f-f1ec-49b7-ad21-31ebd806b471",
   "metadata": {},
   "outputs": [],
   "source": [
    "from pyspark.ml.classification import GBTClassifier\n",
    "\n",
    "# Initialize and train model\n",
    "gbt = GBTClassifier(featuresCol=\"features\", labelCol=\"label\", maxIter=50)\n",
    "gbt_model = gbt.fit(train_data)\n"
   ]
  },
  {
   "cell_type": "markdown",
   "id": "960d536a-7e34-4dde-80b4-fde454b3e22e",
   "metadata": {},
   "source": [
    "## **Step 6: Make Predictions + evaluate performance**\n",
    "\n",
    "We apply the trained model on the test set to generate predictions.\n",
    "\n",
    "We evaluate the model using **ROC-AUC** and **Accuracy**:\r\n",
    "- **ROC-AUC** gives an indication of how well the model distinguishes between highly rated and low-rated movies.\r\n",
    "- **Accuracy** shows the percentage of correct classifications.\r\n",
    "\r\n",
    "\n"
   ]
  },
  {
   "cell_type": "code",
   "execution_count": 7,
   "id": "a5e48382-85a1-439e-95cb-0105db585b27",
   "metadata": {},
   "outputs": [
    {
     "name": "stdout",
     "output_type": "stream",
     "text": [
      "+--------------------+-----+----------+\n",
      "|            features|label|prediction|\n",
      "+--------------------+-----+----------+\n",
      "|(7,[1,2,3],[1931....|    0|       1.0|\n",
      "|(7,[1,2,3],[1933....|    1|       1.0|\n",
      "|(7,[1,2,3],[1933....|    1|       1.0|\n",
      "|(7,[1,2,3],[1933....|    1|       1.0|\n",
      "|(7,[1,2,3],[1934....|    0|       1.0|\n",
      "+--------------------+-----+----------+\n",
      "only showing top 5 rows\n",
      "\n",
      "ROC-AUC Score: 0.7146\n"
     ]
    }
   ],
   "source": [
    "from pyspark.ml.evaluation import BinaryClassificationEvaluator\n",
    "\n",
    "# Predict on test set\n",
    "predictions = gbt_model.transform(test_data)\n",
    "predictions.select(\"features\", \"label\", \"prediction\").show(5)\n",
    "\n",
    "# Evaluate performance\n",
    "evaluator = BinaryClassificationEvaluator(labelCol=\"label\", metricName=\"areaUnderROC\")\n",
    "roc_auc = evaluator.evaluate(predictions)\n",
    "print(f\"ROC-AUC Score: {roc_auc:.4f}\")\n"
   ]
  },
  {
   "cell_type": "code",
   "execution_count": 8,
   "id": "631f8f2d-b528-4236-8a8b-6706357e633f",
   "metadata": {},
   "outputs": [
    {
     "name": "stdout",
     "output_type": "stream",
     "text": [
      "Accuracy: 0.6554\n"
     ]
    }
   ],
   "source": [
    "from pyspark.ml.evaluation import MulticlassClassificationEvaluator\n",
    "\n",
    "evaluator_acc = MulticlassClassificationEvaluator(labelCol=\"label\", predictionCol=\"prediction\", metricName=\"accuracy\")\n",
    "accuracy = evaluator_acc.evaluate(predictions)\n",
    "print(f\"Accuracy: {accuracy:.4f}\")\n"
   ]
  }
 ],
 "metadata": {
  "kernelspec": {
   "display_name": "Python 3 (ipykernel)",
   "language": "python",
   "name": "python3"
  },
  "language_info": {
   "codemirror_mode": {
    "name": "ipython",
    "version": 3
   },
   "file_extension": ".py",
   "mimetype": "text/x-python",
   "name": "python",
   "nbconvert_exporter": "python",
   "pygments_lexer": "ipython3",
   "version": "3.9.19"
  }
 },
 "nbformat": 4,
 "nbformat_minor": 5
}
