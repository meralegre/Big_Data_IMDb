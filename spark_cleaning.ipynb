{
  "cells": [
    {
      "cell_type": "code",
      "execution_count": 98,
      "metadata": {
        "id": "WHr-6_j4Lhn-"
      },
      "outputs": [],
      "source": [
        "import pandas as pd\n",
        "import os\n",
        "import json\n",
        "import re\n",
        "import requests\n",
        "from pathlib import Path\n",
        "\n",
        "from tqdm import tqdm\n",
        "from unidecode import unidecode\n",
        "# import pyspark\n",
        "import pyspark.sql.functions as F\n",
        "from pyspark.sql import SparkSession\n",
        "from pyspark.sql.types import StructType, StructField, ArrayType, StringType, IntegerType, FloatType\n",
        "from pyspark.sql.functions import col, when, udf, regexp_replace, lower, trim, lit, coalesce\n",
        "\n",
        "from pyspark.ml import Pipeline"
      ]
    },
    {
      "cell_type": "code",
      "source": [
        "# !git clone https://github.com/meralegre/Big_Data_IMDb.git\n",
        "# %cd Big_Data_IMDb/\n",
        "# %pwd"
      ],
      "metadata": {
        "id": "KalMBJzMMgJF"
      },
      "execution_count": 5,
      "outputs": []
    },
    {
      "cell_type": "markdown",
      "metadata": {
        "id": "4EtkPw1zLhoA"
      },
      "source": [
        "### Load data with Spark"
      ]
    },
    {
      "cell_type": "code",
      "execution_count": 6,
      "metadata": {
        "id": "FX23Z9RzLhoC"
      },
      "outputs": [],
      "source": [
        "spark = SparkSession.builder \\\n",
        "    .master(\"local\") \\\n",
        "    .config(\"spark.driver.bindAddress\",\"127.0.0.1\") \\\n",
        "    .getOrCreate()\n",
        "\n",
        "# spark = SparkSession.builder.appName(\"BERT-FineTuning\").getOrCreate()"
      ]
    },
    {
      "cell_type": "code",
      "execution_count": 69,
      "metadata": {
        "id": "Mmg0gyebLhoD"
      },
      "outputs": [],
      "source": [
        "def load_train_data():\n",
        "    path = \"data/train/\"\n",
        "    train_files = os.listdir(path=path)\n",
        "\n",
        "    train_df = pd.DataFrame()\n",
        "    for file in train_files:\n",
        "        if file.startswith('train-') and file.endswith('.csv'):\n",
        "            df = pd.read_csv(f\"{path}/{file}\")\n",
        "            train_df = pd.concat([train_df, df], ignore_index=False)\n",
        "            train_df = train_df.drop(columns=[\"Unnamed: 0\", \"runtimeMinutes\"])\n",
        "\n",
        "    # train_df = train_df.sort_index()\n",
        "    spark_train_df = spark.createDataFrame(train_df).replace(to_replace='\\\\N', value=None)\n",
        "    spark_train_df = spark_train_df.withColumnRenamed(\"primaryTitle\", \"movie_title\")\n",
        "    return spark_train_df"
      ]
    },
    {
      "cell_type": "code",
      "source": [
        "def load_validation_data():\n",
        "    path = \"data/\"\n",
        "    validation_df = pd.read_csv(f\"{path}/validation_hidden.csv\", index_col=[0])\n",
        "    # validation_df = validation_df.sort_index()\n",
        "    validation_df = validation_df.drop(columns=\"runtimeMinutes\")\n",
        "    spark_validation_df = spark.createDataFrame(validation_df).replace(to_replace='\\\\N', value=None)\n",
        "    spark_validation_df = spark_validation_df.withColumnRenamed(\"primaryTitle\", \"movie_title\")\n",
        "    return spark_validation_df\n",
        "\n",
        "def load_test_data():\n",
        "    path = \"data/\"\n",
        "    test_df = pd.read_csv(f\"{path}/test_hidden.csv\", index_col=[0])\n",
        "    # test_df = test_df.sort_index()\n",
        "    test_df = test_df.drop(columns=\"runtimeMinutes\")\n",
        "    spark_test_df = spark.createDataFrame(test_df).replace(to_replace='\\\\N', value=None)\n",
        "    spark_test_df = spark_test_df.withColumnRenamed(\"primaryTitle\", \"movie_title\")\n",
        "    return spark_test_df\n"
      ],
      "metadata": {
        "id": "MU5bR1j6LnII"
      },
      "execution_count": 70,
      "outputs": []
    },
    {
      "cell_type": "code",
      "source": [
        "train_data = load_train_data()\n",
        "train_data.show()"
      ],
      "metadata": {
        "colab": {
          "base_uri": "https://localhost:8080/"
        },
        "id": "OcR0mLCzMXR4",
        "outputId": "49c11a36-c1b4-4d72-9c5a-e3464be0724a"
      },
      "execution_count": 71,
      "outputs": [
        {
          "output_type": "stream",
          "name": "stdout",
          "text": [
            "+---------+--------------------+--------------------+---------+-------+--------+-----+\n",
            "|   tconst|         movie_title|       originalTitle|startYear|endYear|numVotes|label|\n",
            "+---------+--------------------+--------------------+---------+-------+--------+-----+\n",
            "|tt0011439|   The Mark of Zorro|   The Mark of Zorro|     1920|   NULL|  2439.0| true|\n",
            "|tt0012532|Ớrpháns ớf thé Stớrm|                 NaN|     1921|   NULL|     NaN| true|\n",
            "|tt0013933|  The Faithful Heart|        Coeur fidèle|     1923|   NULL|  1252.0| true|\n",
            "|tt0015400| The Thief of Bagdad|                 NaN|     1924|   NULL|  6001.0| true|\n",
            "|tt0015842|  The Joyless Street|                 NaN|     1925|   NULL|  1554.0| true|\n",
            "|tt0016544|    The Wizard of Oz|                 NaN|     1925|   NULL|  1497.0|false|\n",
            "|tt0016641|Ben-Hur: A Tale o...|Ben-Hur: A Tale o...|     1925|   NULL|  7539.0| true|\n",
            "|tt0017463|           3 Bad Men|           3 Bad Men|     1926|   NULL|  1165.0| true|\n",
            "|tt0018379|          7th Heaven|          7th Heaven|     1927|   NULL|  3499.0| true|\n",
            "|tt0018528|         The Unknown|                 NaN|     1927|   NULL|  7850.0| true|\n",
            "|tt0018684|     Beggars of Life|     Beggars of Life|     NULL|   1928|  1093.0| true|\n",
            "|tt0021884|        Frankenstein|        Frankenstein|     1931|   NULL| 69780.0| true|\n",
            "|tt0022787|      Wooden Crosses|                 NaN|     1932|   NULL|  1409.0| true|\n",
            "|tt0023303|   One Hour with You|   One Hour with You|     1932|   NULL|  2389.0| true|\n",
            "|tt0023937|       Pássing Fáncy|          Dekigokoro|     1933|   NULL|  1306.0| true|\n",
            "|tt0024127|Our Flags Lead Us...|                 NaN|     1933|   NULL|  1733.0|false|\n",
            "|tt0024902|          Blue Steel|          Blue Steel|     1934|   NULL|  1546.0|false|\n",
            "|tt0025898|                Tớni|                Toni|     1935|   NULL|  1766.0| true|\n",
            "|tt0028021|         Osaka Elegy|                 NaN|     1936|   NULL|  2253.0| true|\n",
            "|tt0028708|Charlie Chan at t...|Charlie Chan at t...|     1937|   NULL|     NaN| true|\n",
            "+---------+--------------------+--------------------+---------+-------+--------+-----+\n",
            "only showing top 20 rows\n",
            "\n"
          ]
        }
      ]
    },
    {
      "cell_type": "code",
      "source": [
        "validation_data = load_validation_data()\n",
        "validation_data.show()\n",
        "validation_data.count()"
      ],
      "metadata": {
        "id": "d55x4KKVqqK4",
        "outputId": "1b1bbdeb-8de4-4f8e-8c0d-3a0e772a3b04",
        "colab": {
          "base_uri": "https://localhost:8080/"
        }
      },
      "execution_count": 96,
      "outputs": [
        {
          "output_type": "stream",
          "name": "stdout",
          "text": [
            "+---------+--------------------+-------------------+---------+-------+--------+\n",
            "|   tconst|         movie_title|      originalTitle|startYear|endYear|numVotes|\n",
            "+---------+--------------------+-------------------+---------+-------+--------+\n",
            "|tt0003740|             Cabiria|                NaN|     1914|   NULL|  3452.0|\n",
            "|tt0008663|     A Man There Was|        Terje Vigen|     1917|   NULL|  1882.0|\n",
            "|tt0010307|           J'accuse!|                NaN|     1919|   NULL|  1692.0|\n",
            "|tt0014429|        Safety Last!|       Safety Last!|     1923|   NULL| 19898.0|\n",
            "|tt0015175|Die Nibelungen: S...|                NaN|     1924|   NULL|  5676.0|\n",
            "|tt0016332|       Seven Chances|                NaN|     1925|   NULL|  9914.0|\n",
            "|tt0018737|       Pandora's Box|                NaN|     NULL|   1929| 10475.0|\n",
            "|tt0018839|The Docks of New ...|                NaN|     1928|   NULL|  4339.0|\n",
            "|tt0019421| Steamboat Bill, Jr.|Steamboat Bill, Jr.|     1928|   NULL| 14166.0|\n",
            "|tt0019901|   Woman in the Moon|                NaN|     1929|   NULL|     NaN|\n",
            "|tt0022150|          Le Million|                NaN|     1931|   NULL|  3434.0|\n",
            "|tt0022153|   The Miracle Woman|                NaN|     1931|   NULL|  2013.0|\n",
            "|tt0025699|   Randy Rides Alone|                NaN|     1934|   NULL|  1034.0|\n",
            "|tt0026725|      Les Misérables|     Les Misérables|     1935|   NULL|  3512.0|\n",
            "|tt0027336|    The Lower Depths|      Les bas-fonds|     1936|   NULL|  3194.0|\n",
            "|tt0027342|      They Were Five|    La belle équipe|     1936|   NULL|  1202.0|\n",
            "|tt0027672| Sisters of the Gion|                NaN|     1936|   NULL|  2621.0|\n",
            "|tt0028167|           Rembrandt|          Rembrandt|     1936|   NULL|  1778.0|\n",
            "|tt0028313|The Story of Loui...|                NaN|     1936|   NULL|  2705.0|\n",
            "|tt0028737|          Confession|         Confession|     1937|   NULL|  1201.0|\n",
            "+---------+--------------------+-------------------+---------+-------+--------+\n",
            "only showing top 20 rows\n",
            "\n"
          ]
        },
        {
          "output_type": "execute_result",
          "data": {
            "text/plain": [
              "955"
            ]
          },
          "metadata": {},
          "execution_count": 96
        }
      ]
    },
    {
      "cell_type": "code",
      "source": [
        "test_data = load_test_data()\n",
        "test_data.show()\n",
        "test_data.count()"
      ],
      "metadata": {
        "id": "QGp_wrhjrACj",
        "outputId": "875b51a5-7d4a-4f8c-8864-4d33626dfba2",
        "colab": {
          "base_uri": "https://localhost:8080/"
        }
      },
      "execution_count": 97,
      "outputs": [
        {
          "output_type": "stream",
          "name": "stdout",
          "text": [
            "+---------+--------------------+-------------------+---------+-------+--------+\n",
            "|   tconst|         movie_title|      originalTitle|startYear|endYear|numVotes|\n",
            "+---------+--------------------+-------------------+---------+-------+--------+\n",
            "|tt0014972| He Who Gets Slapped|He Who Gets Slapped|     1924|   NULL|  3654.0|\n",
            "|tt0015016|      The Iron Horse|                NaN|     1924|   NULL|  2136.0|\n",
            "|tt0015174|Die Nibelungen: K...|                NaN|     1924|   NULL|  4341.0|\n",
            "|tt0015214|             At 3:25|                NaN|     NULL|   1925|  1724.0|\n",
            "|tt0015863|             Go West|                NaN|     1925|   NULL|  4188.0|\n",
            "|tt0016481|             Variety|            Varieté|     1925|   NULL|  1188.0|\n",
            "|tt0017136|          Metropolis|                NaN|     1927|   NULL|168372.0|\n",
            "|tt0018876|   The Farmer's Wife|                NaN|     1928|   NULL|  2741.0|\n",
            "|tt0019074| Laugh, Clown, Laugh|Laugh, Clown, Laugh|     1928|   NULL|  1934.0|\n",
            "|tt0021730|           The Champ|                NaN|     1931|   NULL|  3057.0|\n",
            "|tt0022074|The Smiling Lieut...|                NaN|     1931|   NULL|  3632.0|\n",
            "|tt0022080|               Limit|                NaN|     1931|   NULL|     NaN|\n",
            "|tt0023241|         Movie Crazy|                NaN|     1932|   NULL|     NaN|\n",
            "|tt0023775|           Baby Face|                NaN|     1933|   NULL|  6775.0|\n",
            "|tt0023940|   Design for Living|  Design for Living|     1933|   NULL|     NaN|\n",
            "|tt0024028|    Footlight Parade|   Footlight Parade|     1933|   NULL|  5285.0|\n",
            "|tt0024240|      Lády fớr á Dáy|     Lady for a Day|     1933|   NULL|     NaN|\n",
            "|tt0025746| The Scarlet Empress|                NaN|     1934|   NULL|  6400.0|\n",
            "|tt0025862| Tarzan and His Mate|                NaN|     1934|   NULL|  5033.0|\n",
            "|tt0025929|A Story of Floati...| Ukikusa monogatari|     1934|   NULL|  3032.0|\n",
            "+---------+--------------------+-------------------+---------+-------+--------+\n",
            "only showing top 20 rows\n",
            "\n"
          ]
        },
        {
          "output_type": "execute_result",
          "data": {
            "text/plain": [
              "1086"
            ]
          },
          "metadata": {},
          "execution_count": 97
        }
      ]
    },
    {
      "cell_type": "markdown",
      "source": [
        "### Cleaning"
      ],
      "metadata": {
        "id": "DafTW1BBNRN1"
      }
    },
    {
      "cell_type": "code",
      "source": [
        "# def handle_years():\n",
        "#     \"\"\"\n",
        "#     Creates a 'year' column using 'startYear' if available, otherwise 'endYear'.\n",
        "#     Drops 'startYear' and 'endYear' after merging.\n",
        "#     \"\"\"\n",
        "#     spark_train_df = spark_train_df.withColumn(\"year\", when(col(\"startYear\").isNotNull(), col(\"startYear\"))\n",
        "#                                   .otherwise(col(\"endYear\")))\n",
        "\n",
        "#     spark_validation_df = spark_validation_df.withColumn(\"year\", when(col(\"startYear\").isNotNull(), col(\"startYear\"))\n",
        "#                                   .otherwise(col(\"endYear\")))\n",
        "\n",
        "#     spark_test_df = spark_test_df.withColumn(\"year\", when(col(\"startYear\").isNotNull(), col(\"startYear\"))\n",
        "#                                   .otherwise(col(\"endYear\")))\n",
        "\n",
        "#     # drop original startYear and endYear\n",
        "#     spark_train_df = spark_train_df.drop(\"startYear\", \"endYear\")\n",
        "#     spark_validation_df = spark_validation_df.drop(\"startYear\", \"endYear\")\n",
        "#     spark_test_df = spark_test_df.drop(\"startYear\", \"endYear\")\n",
        "\n",
        "#     return spark_train_df, spark_validation_df, spark_test_df\n",
        "\n",
        "def handle_years(df):\n",
        "    \"\"\"\n",
        "    Creates a 'year' column using 'startYear' if available, otherwise 'endYear'.\n",
        "    Drops 'startYear' and 'endYear' after merging.\n",
        "    \"\"\"\n",
        "    df = df.withColumn(\"year\", when(col(\"startYear\").isNotNull(), col(\"startYear\"))\n",
        "                                  .otherwise(col(\"endYear\")))\n",
        "\n",
        "    # drop original startYear and endYear\n",
        "    df = df.drop(\"startYear\", \"endYear\")\n",
        "\n",
        "    return df"
      ],
      "metadata": {
        "id": "wvoKxUmUMdjt"
      },
      "execution_count": 74,
      "outputs": []
    },
    {
      "cell_type": "code",
      "source": [
        "spark_train_df = load_train_data()\n",
        "spark_train_df = handle_years(spark_train_df)\n",
        "spark_train_df.show()"
      ],
      "metadata": {
        "colab": {
          "base_uri": "https://localhost:8080/"
        },
        "id": "wcWl7c7kTpiE",
        "outputId": "4cd6ef92-1362-42a3-cbc3-803ce5af0987"
      },
      "execution_count": 75,
      "outputs": [
        {
          "output_type": "stream",
          "name": "stdout",
          "text": [
            "+---------+--------------------+--------------------+--------+-----+----+\n",
            "|   tconst|         movie_title|       originalTitle|numVotes|label|year|\n",
            "+---------+--------------------+--------------------+--------+-----+----+\n",
            "|tt0011439|   The Mark of Zorro|   The Mark of Zorro|  2439.0| true|1920|\n",
            "|tt0012532|Ớrpháns ớf thé Stớrm|                 NaN|     NaN| true|1921|\n",
            "|tt0013933|  The Faithful Heart|        Coeur fidèle|  1252.0| true|1923|\n",
            "|tt0015400| The Thief of Bagdad|                 NaN|  6001.0| true|1924|\n",
            "|tt0015842|  The Joyless Street|                 NaN|  1554.0| true|1925|\n",
            "|tt0016544|    The Wizard of Oz|                 NaN|  1497.0|false|1925|\n",
            "|tt0016641|Ben-Hur: A Tale o...|Ben-Hur: A Tale o...|  7539.0| true|1925|\n",
            "|tt0017463|           3 Bad Men|           3 Bad Men|  1165.0| true|1926|\n",
            "|tt0018379|          7th Heaven|          7th Heaven|  3499.0| true|1927|\n",
            "|tt0018528|         The Unknown|                 NaN|  7850.0| true|1927|\n",
            "|tt0018684|     Beggars of Life|     Beggars of Life|  1093.0| true|1928|\n",
            "|tt0021884|        Frankenstein|        Frankenstein| 69780.0| true|1931|\n",
            "|tt0022787|      Wooden Crosses|                 NaN|  1409.0| true|1932|\n",
            "|tt0023303|   One Hour with You|   One Hour with You|  2389.0| true|1932|\n",
            "|tt0023937|       Pássing Fáncy|          Dekigokoro|  1306.0| true|1933|\n",
            "|tt0024127|Our Flags Lead Us...|                 NaN|  1733.0|false|1933|\n",
            "|tt0024902|          Blue Steel|          Blue Steel|  1546.0|false|1934|\n",
            "|tt0025898|                Tớni|                Toni|  1766.0| true|1935|\n",
            "|tt0028021|         Osaka Elegy|                 NaN|  2253.0| true|1936|\n",
            "|tt0028708|Charlie Chan at t...|Charlie Chan at t...|     NaN| true|1937|\n",
            "+---------+--------------------+--------------------+--------+-----+----+\n",
            "only showing top 20 rows\n",
            "\n"
          ]
        }
      ]
    },
    {
      "cell_type": "code",
      "source": [
        "# converts special characters to ASCII\n",
        "def normalize_text(text):\n",
        "    if text is None:\n",
        "        return None\n",
        "    return unidecode(text)\n",
        "\n",
        "normalize_text_udf = udf(normalize_text, StringType())\n",
        "\n",
        "def clean_titles(df):\n",
        "    df = df.withColumn(\"movie_title\", normalize_text_udf(col(\"movie_title\")))\n",
        "    df = df.withColumn(\"originalTitle\", normalize_text_udf(col(\"originalTitle\")))\n",
        "\n",
        "    # maybe we can drop the original name since there are some NaN values present\n",
        "    # and we already have the clean primaryTitle column\n",
        "    df = df.drop(\"originalTitle\")\n",
        "    return df"
      ],
      "metadata": {
        "id": "ppnDh--kTung"
      },
      "execution_count": 76,
      "outputs": []
    },
    {
      "cell_type": "code",
      "source": [
        "spark_train_df = clean_titles(spark_train_df)\n",
        "spark_train_df.show()"
      ],
      "metadata": {
        "colab": {
          "base_uri": "https://localhost:8080/"
        },
        "id": "CEiAm5AGXzAQ",
        "outputId": "92d667f3-3d98-4662-eb38-f36e7f3ca8db"
      },
      "execution_count": 77,
      "outputs": [
        {
          "output_type": "stream",
          "name": "stdout",
          "text": [
            "+---------+--------------------+--------+-----+----+\n",
            "|   tconst|         movie_title|numVotes|label|year|\n",
            "+---------+--------------------+--------+-----+----+\n",
            "|tt0011439|   The Mark of Zorro|  2439.0| true|1920|\n",
            "|tt0012532|Orphans of the Storm|     NaN| true|1921|\n",
            "|tt0013933|  The Faithful Heart|  1252.0| true|1923|\n",
            "|tt0015400| The Thief of Bagdad|  6001.0| true|1924|\n",
            "|tt0015842|  The Joyless Street|  1554.0| true|1925|\n",
            "|tt0016544|    The Wizard of Oz|  1497.0|false|1925|\n",
            "|tt0016641|Ben-Hur: A Tale o...|  7539.0| true|1925|\n",
            "|tt0017463|           3 Bad Men|  1165.0| true|1926|\n",
            "|tt0018379|          7th Heaven|  3499.0| true|1927|\n",
            "|tt0018528|         The Unknown|  7850.0| true|1927|\n",
            "|tt0018684|     Beggars of Life|  1093.0| true|1928|\n",
            "|tt0021884|        Frankenstein| 69780.0| true|1931|\n",
            "|tt0022787|      Wooden Crosses|  1409.0| true|1932|\n",
            "|tt0023303|   One Hour with You|  2389.0| true|1932|\n",
            "|tt0023937|       Passing Fancy|  1306.0| true|1933|\n",
            "|tt0024127|Our Flags Lead Us...|  1733.0|false|1933|\n",
            "|tt0024902|          Blue Steel|  1546.0|false|1934|\n",
            "|tt0025898|                Toni|  1766.0| true|1935|\n",
            "|tt0028021|         Osaka Elegy|  2253.0| true|1936|\n",
            "|tt0028708|Charlie Chan at t...|     NaN| true|1937|\n",
            "+---------+--------------------+--------+-----+----+\n",
            "only showing top 20 rows\n",
            "\n"
          ]
        }
      ]
    },
    {
      "cell_type": "code",
      "source": [
        "# number of rows of training data after concatenating everything together\n",
        "spark_train_df.count()"
      ],
      "metadata": {
        "colab": {
          "base_uri": "https://localhost:8080/"
        },
        "id": "h8uw0fJLX3Mx",
        "outputId": "20011096-5082-4242-ca97-e60330cd2707"
      },
      "execution_count": 78,
      "outputs": [
        {
          "output_type": "execute_result",
          "data": {
            "text/plain": [
              "7959"
            ]
          },
          "metadata": {},
          "execution_count": 78
        }
      ]
    },
    {
      "cell_type": "markdown",
      "source": [
        "### Merge with movie_reviews data"
      ],
      "metadata": {
        "id": "ba9xhrF_qX4x"
      }
    },
    {
      "cell_type": "code",
      "source": [
        "def load_reviews_data():\n",
        "    path = \"movie_reviews/\"\n",
        "    reviews_df = pd.read_csv(f\"{path}/final_movie_reviews.csv\")\n",
        "    # reviews_df = reviews_df.sort_index()\n",
        "    spark_reviews_df = spark.createDataFrame(reviews_df).replace(to_replace='\\\\N', value=None)\n",
        "    return spark_reviews_df"
      ],
      "metadata": {
        "id": "oLvWgcYanFzA"
      },
      "execution_count": 88,
      "outputs": []
    },
    {
      "cell_type": "code",
      "source": [
        "spark_reviews_df = load_reviews_data()\n",
        "spark_reviews_df.show()"
      ],
      "metadata": {
        "id": "xQbwsDConeH7",
        "outputId": "5a8b9e76-0545-4198-c844-517102381c18",
        "colab": {
          "base_uri": "https://localhost:8080/"
        }
      },
      "execution_count": 89,
      "outputs": [
        {
          "output_type": "stream",
          "name": "stdout",
          "text": [
            "+--------------------+------------------+------------------+--------------------+--------------------+--------------------+------------+------------+--------------------+\n",
            "|         movie_title|tomatometer_status|tomatometer_rating|         review_type|        review_score|      review_content|review_label|Release Year|               genre|\n",
            "+--------------------+------------------+------------------+--------------------+--------------------+--------------------+------------+------------+--------------------+\n",
            "|Percy Jackson & t...|            Rotten|              49.0|['Fresh', 'Rotten...|['3.5/5', '1/4', ...|[\"Whether audienc...|      Rotten|      2010.0|Action & Adventur...|\n",
            "|         Please Give|             Fresh|              87.0|['Fresh', 'Fresh'...|['3/4', '3/5', '4...|['Holofcener alwa...|       Fresh|      2010.0|              Comedy|\n",
            "|                  10|             Fresh|              67.0|['Fresh', 'Fresh'...|['4/5', '3/5', '3...|['Obvious but ent...|       Fresh|      1979.0|     Comedy, Romance|\n",
            "|12 Angry Men (Twe...|             Fresh|             100.0|['Fresh', 'Fresh'...|['4/4', '9/10', '...|['In a time of bl...|       Fresh|      1957.0|     Classics, Drama|\n",
            "|20,000 Leagues Un...|             Fresh|              89.0|['Fresh', 'Fresh'...|['7/10', '4.5/5',...|['The embodiment ...|       Fresh|      1954.0|Action & Adventur...|\n",
            "|         10,000 B.C.|            Rotten|               8.0|['Rotten', 'Rotte...|['1.5/5', 'C', 'D...|['A tedious bore ...|      Rotten|      2008.0|Action & Adventur...|\n",
            "|        The 39 Steps|             Fresh|              96.0|['Fresh', 'Fresh'...|['10/10', '5/5', ...|[\"If you haven't ...|       Fresh|      1935.0|Action & Adventur...|\n",
            "|        3:10 to Yuma|             Fresh|              96.0|['Fresh', 'Fresh'...|['4/5', '5/5', 'B...|['', 'Fine Daves,...|       Fresh|      1957.0|Classics, Drama, ...|\n",
            "|Charly (A Heartbe...|            Rotten|              20.0|['Rotten', 'Rotte...|['2/4', 'C', '2/4...|[\"The romance bet...|      Rotten|      2002.0|Comedy, Drama, Ro...|\n",
            "|     Abraham Lincoln|             Fresh|              82.0|['Fresh', 'Fresh'...|['B-', '2.5/5', '...|['An archaic biop...|       Fresh|      1930.0|     Classics, Drama|\n",
            "|          Dark Water|             Fresh|              80.0|['Fresh', 'Fresh'...|['2.5/4', '4/5', ...|[\"...while Dark W...|       Fresh|      2002.0|Art House & Inter...|\n",
            "|         The Accused|             Fresh|              91.0|['Fresh', 'Fresh'...|['3/4', '3.5/5', ...|['The Accused dem...|       Fresh|      1988.0|Drama, Mystery & ...|\n",
            "|       The Lost City|            Rotten|              25.0|['Rotten', 'Rotte...|['C+', '2/4', '2/...|['', 'Despite the...|      Rotten|      2005.0|               Drama|\n",
            "|  The Breaking Point|             Fresh|             100.0|['Fresh', 'Fresh'...|['A', '3.5/4', '3...|['Clearly the bes...|       Fresh|      1950.0|               Drama|\n",
            "|          Adam's Rib|             Fresh|              96.0|['Fresh', 'Fresh'...|['86/100', 'A', '...|[\"Adam's Rib give...|       Fresh|      1949.0|Classics, Comedy,...|\n",
            "|The Bridge of San...|            Rotten|               4.0|['Rotten', 'Rotte...|['D', 'D', 'C-', ...|['Pedestrian...a ...|      Rotten|      2005.0|Art House & Inter...|\n",
            "|The Prowler (Cost...|             Fresh|             100.0|['Fresh', 'Fresh'...|['B+', '56/100', ...|['A neat noir thr...|       Fresh|      1951.0|Drama, Mystery & ...|\n",
            "|            Criminal|             Fresh|              69.0|['Rotten', 'Rotte...|['3/5', 'C+', '2/...|['We got two and ...|       Fresh|      2004.0|Drama, Mystery & ...|\n",
            "|The Adventures of...|             Fresh|              80.0|['Fresh', 'Fresh'...|['4/5', '3/5', '3...|[\"There's more th...|       Fresh|      1985.0|Action & Adventur...|\n",
            "|           Deep Blue|             Fresh|              67.0|['Fresh', 'Fresh'...|['B', 'B', '4/5',...|['A nice piece of...|       Fresh|      2005.0|Documentary, Spec...|\n",
            "+--------------------+------------------+------------------+--------------------+--------------------+--------------------+------------+------------+--------------------+\n",
            "only showing top 20 rows\n",
            "\n"
          ]
        }
      ]
    },
    {
      "cell_type": "code",
      "source": [
        "spark_reviews_df.count()"
      ],
      "metadata": {
        "id": "0CfCsWBxrsSd",
        "outputId": "e8f84171-67ac-416a-a30b-c5c1b856303e",
        "colab": {
          "base_uri": "https://localhost:8080/"
        }
      },
      "execution_count": 90,
      "outputs": [
        {
          "output_type": "execute_result",
          "data": {
            "text/plain": [
              "19095"
            ]
          },
          "metadata": {},
          "execution_count": 90
        }
      ]
    },
    {
      "cell_type": "code",
      "source": [
        "def convert_year_column_to_int(df, column_name):\n",
        "    \"\"\"\n",
        "    converts a float-based year column to an integer\n",
        "    \"\"\"\n",
        "    df = df.withColumn(column_name, col(column_name).cast(IntegerType()))\n",
        "    return df\n",
        "\n",
        "spark_reviews_df = convert_year_column_to_int(spark_reviews_df, \"Release Year\")"
      ],
      "metadata": {
        "id": "UrMKGUwcskt7"
      },
      "execution_count": 91,
      "outputs": []
    },
    {
      "cell_type": "code",
      "source": [
        "spark_reviews_df.show()"
      ],
      "metadata": {
        "id": "beZURgqIv9V5",
        "outputId": "933cf7c2-8cf1-40ec-aa3f-178aef982d88",
        "colab": {
          "base_uri": "https://localhost:8080/"
        }
      },
      "execution_count": 92,
      "outputs": [
        {
          "output_type": "stream",
          "name": "stdout",
          "text": [
            "+--------------------+------------------+------------------+--------------------+--------------------+--------------------+------------+------------+--------------------+\n",
            "|         movie_title|tomatometer_status|tomatometer_rating|         review_type|        review_score|      review_content|review_label|Release Year|               genre|\n",
            "+--------------------+------------------+------------------+--------------------+--------------------+--------------------+------------+------------+--------------------+\n",
            "|Percy Jackson & t...|            Rotten|              49.0|['Fresh', 'Rotten...|['3.5/5', '1/4', ...|[\"Whether audienc...|      Rotten|        2010|Action & Adventur...|\n",
            "|         Please Give|             Fresh|              87.0|['Fresh', 'Fresh'...|['3/4', '3/5', '4...|['Holofcener alwa...|       Fresh|        2010|              Comedy|\n",
            "|                  10|             Fresh|              67.0|['Fresh', 'Fresh'...|['4/5', '3/5', '3...|['Obvious but ent...|       Fresh|        1979|     Comedy, Romance|\n",
            "|12 Angry Men (Twe...|             Fresh|             100.0|['Fresh', 'Fresh'...|['4/4', '9/10', '...|['In a time of bl...|       Fresh|        1957|     Classics, Drama|\n",
            "|20,000 Leagues Un...|             Fresh|              89.0|['Fresh', 'Fresh'...|['7/10', '4.5/5',...|['The embodiment ...|       Fresh|        1954|Action & Adventur...|\n",
            "|         10,000 B.C.|            Rotten|               8.0|['Rotten', 'Rotte...|['1.5/5', 'C', 'D...|['A tedious bore ...|      Rotten|        2008|Action & Adventur...|\n",
            "|        The 39 Steps|             Fresh|              96.0|['Fresh', 'Fresh'...|['10/10', '5/5', ...|[\"If you haven't ...|       Fresh|        1935|Action & Adventur...|\n",
            "|        3:10 to Yuma|             Fresh|              96.0|['Fresh', 'Fresh'...|['4/5', '5/5', 'B...|['', 'Fine Daves,...|       Fresh|        1957|Classics, Drama, ...|\n",
            "|Charly (A Heartbe...|            Rotten|              20.0|['Rotten', 'Rotte...|['2/4', 'C', '2/4...|[\"The romance bet...|      Rotten|        2002|Comedy, Drama, Ro...|\n",
            "|     Abraham Lincoln|             Fresh|              82.0|['Fresh', 'Fresh'...|['B-', '2.5/5', '...|['An archaic biop...|       Fresh|        1930|     Classics, Drama|\n",
            "|          Dark Water|             Fresh|              80.0|['Fresh', 'Fresh'...|['2.5/4', '4/5', ...|[\"...while Dark W...|       Fresh|        2002|Art House & Inter...|\n",
            "|         The Accused|             Fresh|              91.0|['Fresh', 'Fresh'...|['3/4', '3.5/5', ...|['The Accused dem...|       Fresh|        1988|Drama, Mystery & ...|\n",
            "|       The Lost City|            Rotten|              25.0|['Rotten', 'Rotte...|['C+', '2/4', '2/...|['', 'Despite the...|      Rotten|        2005|               Drama|\n",
            "|  The Breaking Point|             Fresh|             100.0|['Fresh', 'Fresh'...|['A', '3.5/4', '3...|['Clearly the bes...|       Fresh|        1950|               Drama|\n",
            "|          Adam's Rib|             Fresh|              96.0|['Fresh', 'Fresh'...|['86/100', 'A', '...|[\"Adam's Rib give...|       Fresh|        1949|Classics, Comedy,...|\n",
            "|The Bridge of San...|            Rotten|               4.0|['Rotten', 'Rotte...|['D', 'D', 'C-', ...|['Pedestrian...a ...|      Rotten|        2005|Art House & Inter...|\n",
            "|The Prowler (Cost...|             Fresh|             100.0|['Fresh', 'Fresh'...|['B+', '56/100', ...|['A neat noir thr...|       Fresh|        1951|Drama, Mystery & ...|\n",
            "|            Criminal|             Fresh|              69.0|['Rotten', 'Rotte...|['3/5', 'C+', '2/...|['We got two and ...|       Fresh|        2004|Drama, Mystery & ...|\n",
            "|The Adventures of...|             Fresh|              80.0|['Fresh', 'Fresh'...|['4/5', '3/5', '3...|[\"There's more th...|       Fresh|        1985|Action & Adventur...|\n",
            "|           Deep Blue|             Fresh|              67.0|['Fresh', 'Fresh'...|['B', 'B', '4/5',...|['A nice piece of...|       Fresh|        2005|Documentary, Spec...|\n",
            "+--------------------+------------------+------------------+--------------------+--------------------+--------------------+------------+------------+--------------------+\n",
            "only showing top 20 rows\n",
            "\n"
          ]
        }
      ]
    },
    {
      "cell_type": "markdown",
      "source": [
        "### Time to merge"
      ],
      "metadata": {
        "id": "czaD7N4QymSy"
      }
    },
    {
      "cell_type": "code",
      "source": [
        "def join_training_with_reviews(df_movies, df_reviews):\n",
        "    \"\"\"\n",
        "    joins training data with reviews based on `movie_title` and `year`.\n",
        "\n",
        "    Parameters:\n",
        "    - df_movies: PySpark DataFrame containing training movie metadata.\n",
        "    - df_reviews: PySpark DataFrame containing reviews.\n",
        "\n",
        "    Returns:\n",
        "    - Merged PySpark DataFrame with movie metadata + reviews.\n",
        "    \"\"\"\n",
        "\n",
        "    # Standardize `movie_title` (trim + lowercase) for better matching\n",
        "    df_movies = df_movies.withColumn(\"movie_title\", trim(lower(col(\"movie_title\"))))\n",
        "    df_reviews = df_reviews.withColumn(\"movie_title\", trim(lower(col(\"movie_title\"))))\n",
        "\n",
        "    # Rename 'Release Year' in reviews to 'year' for consistent joins\n",
        "    df_reviews = df_reviews.withColumnRenamed(\"Release Year\", \"year\")\n",
        "\n",
        "    # Ensure `year` is cast as an integer\n",
        "    df_movies = df_movies.withColumn(\"year\", col(\"year\").cast(\"int\"))\n",
        "    df_reviews = df_reviews.withColumn(\"year\", col(\"year\").cast(\"int\"))\n",
        "\n",
        "    # Perform a LEFT JOIN on `movie_title` and `year`\n",
        "    df_merged = df_movies.join(df_reviews, on=[\"movie_title\", \"year\"], how=\"left\")\n",
        "\n",
        "    # Select relevant columns\n",
        "    selected_columns = [\n",
        "        \"tconst\", \"movie_title\", \"numVotes\", \"year\", \"label\",\n",
        "        \"tomatometer_status\", \"review_type\", \"genre\",\n",
        "        \"review_label\", \"review_content\"\n",
        "    ]\n",
        "\n",
        "    df_final = df_merged.select(*selected_columns)\n",
        "\n",
        "    # Fill missing reviews with \"No Reviews\" and \"Unknown\"\n",
        "    df_final = df_final.fillna({\"review_content\": \"No Reviews\", \"review_label\": \"Unknown\"})\n",
        "\n",
        "    return df_final\n"
      ],
      "metadata": {
        "id": "myTK7O-8wrhQ"
      },
      "execution_count": 111,
      "outputs": []
    },
    {
      "cell_type": "code",
      "source": [
        "join_training_with_reviews(spark_train_df, spark_reviews_df).show()"
      ],
      "metadata": {
        "id": "5jIVKoV-3UQ1",
        "outputId": "a9b411d8-8800-4362-bb0a-123cac9bb725",
        "colab": {
          "base_uri": "https://localhost:8080/"
        }
      },
      "execution_count": 112,
      "outputs": [
        {
          "output_type": "stream",
          "name": "stdout",
          "text": [
            "+---------+--------------------+--------+----+-----+------------------+--------------------+--------------------+------------+--------------------+\n",
            "|   tconst|         movie_title|numVotes|year|label|tomatometer_status|         review_type|               genre|review_label|      review_content|\n",
            "+---------+--------------------+--------+----+-----+------------------+--------------------+--------------------+------------+--------------------+\n",
            "|tt0017463|           3 bad men|  1165.0|1926| true|              NULL|                NULL|                NULL|     Unknown|          No Reviews|\n",
            "|tt0018379|          7th heaven|  3499.0|1927| true|              NULL|                NULL|                NULL|     Unknown|          No Reviews|\n",
            "|tt0018684|     beggars of life|  1093.0|1928| true|              NULL|                NULL|                NULL|     Unknown|          No Reviews|\n",
            "|tt0016641|ben-hur: a tale o...|  7539.0|1925| true|              NULL|                NULL|                NULL|     Unknown|          No Reviews|\n",
            "|tt0024902|          blue steel|  1546.0|1934|false|              NULL|                NULL|                NULL|     Unknown|          No Reviews|\n",
            "|tt0028708|charlie chan at t...|     NaN|1937| true|              NULL|                NULL|                NULL|     Unknown|          No Reviews|\n",
            "|tt0021884|        frankenstein| 69780.0|1931| true|              NULL|                NULL|                NULL|     Unknown|          No Reviews|\n",
            "|tt0029192|make way for tomo...|  8144.0|1937| true|              NULL|                NULL|                NULL|     Unknown|          No Reviews|\n",
            "|tt0023303|   one hour with you|  2389.0|1932| true|              NULL|                NULL|                NULL|     Unknown|          No Reviews|\n",
            "|tt0012532|orphans of the storm|     NaN|1921| true|             Fresh|['Rotten', 'Fresh...|               Drama|       Fresh|['D.W. Griffith, ...|\n",
            "|tt0028021|         osaka elegy|  2253.0|1936| true|              NULL|                NULL|                NULL|     Unknown|          No Reviews|\n",
            "|tt0024127|our flags lead us...|  1733.0|1933|false|              NULL|                NULL|                NULL|     Unknown|          No Reviews|\n",
            "|tt0023937|       passing fancy|  1306.0|1933| true|              NULL|                NULL|                NULL|     Unknown|          No Reviews|\n",
            "|tt0013933|  the faithful heart|  1252.0|1923| true|              NULL|                NULL|                NULL|     Unknown|          No Reviews|\n",
            "|tt0015842|  the joyless street|  1554.0|1925| true|              NULL|                NULL|                NULL|     Unknown|          No Reviews|\n",
            "|tt0011439|   the mark of zorro|  2439.0|1920| true|             Fresh|['Rotten', 'Fresh...|Action & Adventur...|       Fresh|['It was such a s...|\n",
            "|tt0015400| the thief of bagdad|  6001.0|1924| true|             Fresh|['Fresh', 'Fresh'...|Action & Adventur...|       Fresh|['Not up to the 1...|\n",
            "|tt0018528|         the unknown|  7850.0|1927| true|              NULL|                NULL|                NULL|     Unknown|          No Reviews|\n",
            "|tt0016544|    the wizard of oz|  1497.0|1925|false|              NULL|                NULL|                NULL|     Unknown|          No Reviews|\n",
            "|tt0025898|                toni|  1766.0|1935| true|              NULL|                NULL|                NULL|     Unknown|          No Reviews|\n",
            "+---------+--------------------+--------+----+-----+------------------+--------------------+--------------------+------------+--------------------+\n",
            "only showing top 20 rows\n",
            "\n"
          ]
        }
      ]
    },
    {
      "cell_type": "code",
      "source": [
        "spark_reviews_df = spark_reviews_df.withColumnRenamed(\"Release Year\", \"year\")\n",
        "df_missing_movies = spark_train_df.join(spark_reviews_df, on=[\"movie_title\", \"year\"], how=\"left_anti\")\n",
        "df_missing_movies.count()"
      ],
      "metadata": {
        "id": "eghJZ9196Gqs",
        "outputId": "fb204ce1-9d2a-4cf3-8e57-e6320c2ff8d4",
        "colab": {
          "base_uri": "https://localhost:8080/"
        }
      },
      "execution_count": 114,
      "outputs": [
        {
          "output_type": "execute_result",
          "data": {
            "text/plain": [
              "5892"
            ]
          },
          "metadata": {},
          "execution_count": 114
        }
      ]
    },
    {
      "cell_type": "code",
      "source": [
        "def clean_labels(df):\n",
        "    \"\"\"\n",
        "    Creates a 'year' column using 'startYear' if available, otherwise 'endYear'.\n",
        "    Drops 'startYear' and 'endYear' after merging.\n",
        "    \"\"\"\n",
        "    # convert boolean column `label` to integer\n",
        "    df = df.withColumn(\"label_int\", when(col(\"label\") == True, 1).otherwise(0))\n",
        "\n",
        "    # convert categorical `review_label` to numerical\n",
        "    df = df.withColumn(\"review_label_int\", when(col(\"review_label\") == \"Fresh\", 1)\n",
        "                                          .when(col(\"review_label\") == \"Rotten\", 0)\n",
        "                                          .otherwise(None))\n",
        "    # combine both labels:\n",
        "    # both exist: average\n",
        "    # only one exists: take that one\n",
        "    df = df.withColumn(\"combined_label\",\n",
        "                       coalesce((col(\"label_int\") + col(\"review_label_int\")) / 2, col(\"label_int\"), col(\"review_label_int\")))\n",
        "\n",
        "    # Drop unnecessary intermediate columns\n",
        "    df = df.drop(\"label\", \"label_int\", \"review_label\", \"review_label_int\")\n",
        "\n",
        "    df.withColumnRenamed(\"label\", \"combined_label\")\n",
        "\n",
        "    return df"
      ],
      "metadata": {
        "id": "W0AW1cDkz1ai"
      },
      "execution_count": 109,
      "outputs": []
    },
    {
      "cell_type": "code",
      "source": [
        "# clean_labels(final_df).show()"
      ],
      "metadata": {
        "id": "n7VXWhxd2SRQ",
        "outputId": "406749b6-07d9-4451-b7f3-21e0344afe25",
        "colab": {
          "base_uri": "https://localhost:8080/"
        }
      },
      "execution_count": 110,
      "outputs": [
        {
          "output_type": "stream",
          "name": "stdout",
          "text": [
            "+----------+--------------------+--------+------------------+------------------+--------------------+--------------------+------------+--------------+\n",
            "|    tconst|         movie_title|numVotes|tomatometer_status|tomatometer_rating|      review_content|               genre|release_year|combined_label|\n",
            "+----------+--------------------+--------+------------------+------------------+--------------------+--------------------+------------+--------------+\n",
            "|tt10534500|               #home| 10591.0|              NULL|              NULL|          No Reviews|                NULL|        NULL|           1.0|\n",
            "| tt0090556|      'night, mother|  2244.0|              NULL|              NULL|          No Reviews|                NULL|        NULL|           1.0|\n",
            "| tt0349047|(t)raumschiff sur...| 15303.0|              NULL|              NULL|          No Reviews|                NULL|        NULL|           0.0|\n",
            "| tt2395385|                  +1|  8065.0|             Fresh|              82.0|[\"Love it or hate...|Horror, Mystery &...|        2013|           0.5|\n",
            "| tt0381838|              ...ing|  2187.0|              NULL|              NULL|          No Reviews|                NULL|        NULL|           1.0|\n",
            "| tt0473567|           ...yahaan|     NaN|              NULL|              NULL|          No Reviews|                NULL|        NULL|           1.0|\n",
            "| tt2416424|00 schneider - im...|  1216.0|              NULL|              NULL|          No Reviews|                NULL|        NULL|           0.0|\n",
            "| tt0109000|00 schneider - ja...|  2583.0|              NULL|              NULL|          No Reviews|                NULL|        NULL|           1.0|\n",
            "| tt2518788|                   1|  4089.0|              NULL|              NULL|          No Reviews|                NULL|        NULL|           1.0|\n",
            "| tt4685428|              1 buck|     NaN|              NULL|              NULL|          No Reviews|                NULL|        NULL|           0.0|\n",
            "| tt4875960|     1 interrogation|  4757.0|              NULL|              NULL|          No Reviews|                NULL|        NULL|           0.0|\n",
            "| tt0494724|    1 litre of tears|     NaN|              NULL|              NULL|          No Reviews|                NULL|        NULL|           1.0|\n",
            "| tt4126694|             1 night|  1986.0|              NULL|              NULL|          No Reviews|                NULL|        NULL|           0.0|\n",
            "| tt1179933| 10 cloverfield lane|309018.0|             Fresh|              90.0|['A crackerjack e...|Drama, Mystery & ...|        2016|           1.0|\n",
            "| tt5128266|    10 endrathukulla|  1321.0|              NULL|              NULL|          No Reviews|                NULL|        NULL|           0.0|\n",
            "| tt1993391|10 rules for slee...|  2902.0|            Rotten|               0.0|['For a film so b...|              Comedy|        2014|           0.0|\n",
            "| tt0147800|10 things i hate ...|319002.0|             Fresh|              69.0|[\"Lame scenes are...|              Comedy|        1999|           1.0|\n",
            "| tt0443649|           10,000 bc|128668.0|              NULL|              NULL|          No Reviews|                NULL|        NULL|           0.0|\n",
            "| tt3488056|     10.0 earthquake|  2156.0|              NULL|              NULL|          No Reviews|                NULL|        NULL|           0.0|\n",
            "|tt10949778|    100 days to live|  4155.0|              NULL|              NULL|          No Reviews|                NULL|        NULL|           0.0|\n",
            "+----------+--------------------+--------+------------------+------------------+--------------------+--------------------+------------+--------------+\n",
            "only showing top 20 rows\n",
            "\n"
          ]
        }
      ]
    },
    {
      "cell_type": "code",
      "source": [],
      "metadata": {
        "id": "LiXDdvyY2cOT"
      },
      "execution_count": null,
      "outputs": []
    }
  ],
  "metadata": {
    "kernelspec": {
      "display_name": "Python 3.13.0 64-bit",
      "language": "python",
      "name": "python3"
    },
    "language_info": {
      "codemirror_mode": {
        "name": "ipython",
        "version": 3
      },
      "file_extension": ".py",
      "mimetype": "text/x-python",
      "name": "python",
      "nbconvert_exporter": "python",
      "pygments_lexer": "ipython3",
      "version": "3.13.0"
    },
    "orig_nbformat": 4,
    "vscode": {
      "interpreter": {
        "hash": "551fd68e30ca91e93e17c4a026561b6b886979137c5fe7e80f232fda1837785b"
      }
    },
    "colab": {
      "provenance": []
    }
  },
  "nbformat": 4,
  "nbformat_minor": 0
}