{
  "cells": [
    {
      "cell_type": "code",
      "execution_count": 79,
      "metadata": {
        "id": "WHr-6_j4Lhn-"
      },
      "outputs": [],
      "source": [
        "import pandas as pd\n",
        "import os\n",
        "import json\n",
        "import re\n",
        "import requests\n",
        "from pathlib import Path\n",
        "\n",
        "from tqdm import tqdm\n",
        "from unidecode import unidecode\n",
        "# import pyspark\n",
        "import pyspark.sql.functions as F\n",
        "from pyspark.sql import SparkSession\n",
        "from pyspark.sql.types import StructType, StructField, ArrayType, StringType, IntegerType, FloatType\n",
        "from pyspark.sql.functions import col, when, udf, regexp_replace\n",
        "\n",
        "from pyspark.ml import Pipeline"
      ]
    },
    {
      "cell_type": "code",
      "source": [
        "# !git clone https://github.com/meralegre/Big_Data_IMDb.git\n",
        "# %cd Big_Data_IMDb/\n",
        "# %pwd"
      ],
      "metadata": {
        "id": "KalMBJzMMgJF"
      },
      "execution_count": 68,
      "outputs": []
    },
    {
      "cell_type": "markdown",
      "metadata": {
        "id": "4EtkPw1zLhoA"
      },
      "source": [
        "### Load data with Spark"
      ]
    },
    {
      "cell_type": "code",
      "execution_count": 48,
      "metadata": {
        "id": "FX23Z9RzLhoC"
      },
      "outputs": [],
      "source": [
        "spark = SparkSession.builder \\\n",
        "    .master(\"local\") \\\n",
        "    .config(\"spark.driver.bindAddress\",\"127.0.0.1\") \\\n",
        "    .getOrCreate()\n",
        "\n",
        "# spark = SparkSession.builder.appName(\"BERT-FineTuning\").getOrCreate()"
      ]
    },
    {
      "cell_type": "code",
      "execution_count": 53,
      "metadata": {
        "id": "Mmg0gyebLhoD"
      },
      "outputs": [],
      "source": [
        "def load_train_data():\n",
        "    path = \"data/train/\"\n",
        "    train_files = os.listdir(path=path)\n",
        "\n",
        "    train_df = pd.DataFrame()\n",
        "    for file in train_files:\n",
        "        if file.startswith('train-') and file.endswith('.csv'):\n",
        "            df = pd.read_csv(f\"{path}/{file}\")\n",
        "            train_df = pd.concat([train_df, df], ignore_index=False)\n",
        "            train_df = train_df.drop(columns=\"Unnamed: 0\")\n",
        "\n",
        "    # train_df = train_df.sort_index()\n",
        "    spark_train_df = spark.createDataFrame(train_df).replace(to_replace='\\\\N', value=None)\n",
        "    return spark_train_df"
      ]
    },
    {
      "cell_type": "code",
      "source": [
        "def load_validation_data():\n",
        "    path = \"data/\"\n",
        "    validation_dfdf = pd.read_csv(f\"{path}/validation_hidden.csv\", index_col=[0])\n",
        "    #validation_df = validation_df.sort_index()\n",
        "    validation_df = validation_df.drop(columns=\"Unnamed: 0\")\n",
        "    spark_validation_df = spark.createDataFrame(validation_df).replace(to_replace='\\\\N', value=None)\n",
        "    return spark_validation_df\n",
        "\n",
        "def load_test_data():\n",
        "    path = \"data/\"\n",
        "    test_df = pd.read_csv(f\"{path}/test_hidden.csv\", index_col=[0])\n",
        "    # test_df = test_df.sort_index()\n",
        "    test_df = test_df.drop(columns=\"Unnamed: 0\")\n",
        "    spark_test_df = spark.createDataFrame(test_df).replace(to_replace='\\\\N', value=None)\n",
        "    return spark_test_df\n"
      ],
      "metadata": {
        "id": "MU5bR1j6LnII"
      },
      "execution_count": 52,
      "outputs": []
    },
    {
      "cell_type": "code",
      "source": [
        "train_data = load_train_data()\n",
        "train_data.show()"
      ],
      "metadata": {
        "colab": {
          "base_uri": "https://localhost:8080/"
        },
        "id": "OcR0mLCzMXR4",
        "outputId": "5e59a39c-99d6-4a54-8f0d-9e0736da7375"
      },
      "execution_count": 69,
      "outputs": [
        {
          "output_type": "stream",
          "name": "stdout",
          "text": [
            "+---------+--------------------+--------------------+---------+-------+--------------+--------+-----+\n",
            "|   tconst|        primaryTitle|       originalTitle|startYear|endYear|runtimeMinutes|numVotes|label|\n",
            "+---------+--------------------+--------------------+---------+-------+--------------+--------+-----+\n",
            "|tt0011439|   The Mark of Zorro|   The Mark of Zorro|     1920|   NULL|            79|  2439.0| true|\n",
            "|tt0012532|Ớrpháns ớf thé Stớrm|                 NaN|     1921|   NULL|           150|     NaN| true|\n",
            "|tt0013933|  The Faithful Heart|        Coeur fidèle|     1923|   NULL|            87|  1252.0| true|\n",
            "|tt0015400| The Thief of Bagdad|                 NaN|     1924|   NULL|           155|  6001.0| true|\n",
            "|tt0015842|  The Joyless Street|                 NaN|     1925|   NULL|           125|  1554.0| true|\n",
            "|tt0016544|    The Wizard of Oz|                 NaN|     1925|   NULL|            95|  1497.0|false|\n",
            "|tt0016641|Ben-Hur: A Tale o...|Ben-Hur: A Tale o...|     1925|   NULL|           143|  7539.0| true|\n",
            "|tt0017463|           3 Bad Men|           3 Bad Men|     1926|   NULL|            92|  1165.0| true|\n",
            "|tt0018379|          7th Heaven|          7th Heaven|     1927|   NULL|           110|  3499.0| true|\n",
            "|tt0018528|         The Unknown|                 NaN|     1927|   NULL|            63|  7850.0| true|\n",
            "|tt0018684|     Beggars of Life|     Beggars of Life|     NULL|   1928|           100|  1093.0| true|\n",
            "|tt0021884|        Frankenstein|        Frankenstein|     1931|   NULL|            70| 69780.0| true|\n",
            "|tt0022787|      Wooden Crosses|                 NaN|     1932|   NULL|           115|  1409.0| true|\n",
            "|tt0023303|   One Hour with You|   One Hour with You|     1932|   NULL|            78|  2389.0| true|\n",
            "|tt0023937|       Pássing Fáncy|          Dekigokoro|     1933|   NULL|           100|  1306.0| true|\n",
            "|tt0024127|Our Flags Lead Us...|                 NaN|     1933|   NULL|            95|  1733.0|false|\n",
            "|tt0024902|          Blue Steel|          Blue Steel|     1934|   NULL|            54|  1546.0|false|\n",
            "|tt0025898|                Tớni|                Toni|     1935|   NULL|            84|  1766.0| true|\n",
            "|tt0028021|         Osaka Elegy|                 NaN|     1936|   NULL|            71|  2253.0| true|\n",
            "|tt0028708|Charlie Chan at t...|Charlie Chan at t...|     1937|   NULL|            71|     NaN| true|\n",
            "+---------+--------------------+--------------------+---------+-------+--------------+--------+-----+\n",
            "only showing top 20 rows\n",
            "\n"
          ]
        }
      ]
    },
    {
      "cell_type": "markdown",
      "source": [
        "### Cleaning"
      ],
      "metadata": {
        "id": "DafTW1BBNRN1"
      }
    },
    {
      "cell_type": "code",
      "source": [
        "# def handle_years():\n",
        "#     \"\"\"\n",
        "#     Creates a 'year' column using 'startYear' if available, otherwise 'endYear'.\n",
        "#     Drops 'startYear' and 'endYear' after merging.\n",
        "#     \"\"\"\n",
        "#     spark_train_df = spark_train_df.withColumn(\"year\", when(col(\"startYear\").isNotNull(), col(\"startYear\"))\n",
        "#                                   .otherwise(col(\"endYear\")))\n",
        "\n",
        "#     spark_validation_df = spark_validation_df.withColumn(\"year\", when(col(\"startYear\").isNotNull(), col(\"startYear\"))\n",
        "#                                   .otherwise(col(\"endYear\")))\n",
        "\n",
        "#     spark_test_df = spark_test_df.withColumn(\"year\", when(col(\"startYear\").isNotNull(), col(\"startYear\"))\n",
        "#                                   .otherwise(col(\"endYear\")))\n",
        "\n",
        "#     # drop original startYear and endYear\n",
        "#     spark_train_df = spark_train_df.drop(\"startYear\", \"endYear\")\n",
        "#     spark_validation_df = spark_validation_df.drop(\"startYear\", \"endYear\")\n",
        "#     spark_test_df = spark_test_df.drop(\"startYear\", \"endYear\")\n",
        "\n",
        "#     return spark_train_df, spark_validation_df, spark_test_df\n",
        "\n",
        "def handle_years(df):\n",
        "    \"\"\"\n",
        "    Creates a 'year' column using 'startYear' if available, otherwise 'endYear'.\n",
        "    Drops 'startYear' and 'endYear' after merging.\n",
        "    \"\"\"\n",
        "    df = df.withColumn(\"year\", when(col(\"startYear\").isNotNull(), col(\"startYear\"))\n",
        "                                  .otherwise(col(\"endYear\")))\n",
        "\n",
        "    # drop original startYear and endYear\n",
        "    df = df.drop(\"startYear\", \"endYear\")\n",
        "\n",
        "    return df"
      ],
      "metadata": {
        "id": "wvoKxUmUMdjt"
      },
      "execution_count": 76,
      "outputs": []
    },
    {
      "cell_type": "code",
      "source": [
        "spark_train_df = load_train_data()\n",
        "spark_train_df = handle_years(spark_train_df)\n",
        "spark_train_df.show()"
      ],
      "metadata": {
        "id": "wcWl7c7kTpiE",
        "outputId": "565c085f-fb9d-4b9a-c239-f2c0bf418a40",
        "colab": {
          "base_uri": "https://localhost:8080/"
        }
      },
      "execution_count": 77,
      "outputs": [
        {
          "output_type": "stream",
          "name": "stdout",
          "text": [
            "+---------+--------------------+--------------------+--------------+--------+-----+----+\n",
            "|   tconst|        primaryTitle|       originalTitle|runtimeMinutes|numVotes|label|year|\n",
            "+---------+--------------------+--------------------+--------------+--------+-----+----+\n",
            "|tt0011439|   The Mark of Zorro|   The Mark of Zorro|            79|  2439.0| true|1920|\n",
            "|tt0012532|Ớrpháns ớf thé Stớrm|                 NaN|           150|     NaN| true|1921|\n",
            "|tt0013933|  The Faithful Heart|        Coeur fidèle|            87|  1252.0| true|1923|\n",
            "|tt0015400| The Thief of Bagdad|                 NaN|           155|  6001.0| true|1924|\n",
            "|tt0015842|  The Joyless Street|                 NaN|           125|  1554.0| true|1925|\n",
            "|tt0016544|    The Wizard of Oz|                 NaN|            95|  1497.0|false|1925|\n",
            "|tt0016641|Ben-Hur: A Tale o...|Ben-Hur: A Tale o...|           143|  7539.0| true|1925|\n",
            "|tt0017463|           3 Bad Men|           3 Bad Men|            92|  1165.0| true|1926|\n",
            "|tt0018379|          7th Heaven|          7th Heaven|           110|  3499.0| true|1927|\n",
            "|tt0018528|         The Unknown|                 NaN|            63|  7850.0| true|1927|\n",
            "|tt0018684|     Beggars of Life|     Beggars of Life|           100|  1093.0| true|1928|\n",
            "|tt0021884|        Frankenstein|        Frankenstein|            70| 69780.0| true|1931|\n",
            "|tt0022787|      Wooden Crosses|                 NaN|           115|  1409.0| true|1932|\n",
            "|tt0023303|   One Hour with You|   One Hour with You|            78|  2389.0| true|1932|\n",
            "|tt0023937|       Pássing Fáncy|          Dekigokoro|           100|  1306.0| true|1933|\n",
            "|tt0024127|Our Flags Lead Us...|                 NaN|            95|  1733.0|false|1933|\n",
            "|tt0024902|          Blue Steel|          Blue Steel|            54|  1546.0|false|1934|\n",
            "|tt0025898|                Tớni|                Toni|            84|  1766.0| true|1935|\n",
            "|tt0028021|         Osaka Elegy|                 NaN|            71|  2253.0| true|1936|\n",
            "|tt0028708|Charlie Chan at t...|Charlie Chan at t...|            71|     NaN| true|1937|\n",
            "+---------+--------------------+--------------------+--------------+--------+-----+----+\n",
            "only showing top 20 rows\n",
            "\n"
          ]
        }
      ]
    },
    {
      "cell_type": "code",
      "source": [
        "# converts special characters to ASCII\n",
        "def normalize_text(text):\n",
        "    if text is None:\n",
        "        return None\n",
        "    return unidecode(text)\n",
        "\n",
        "normalize_text_udf = udf(normalize_text, StringType())\n",
        "\n",
        "def clean_titles(df):\n",
        "    df = df.withColumn(\"primaryTitle\", normalize_text_udf(col(\"primaryTitle\")))\n",
        "    df = df.withColumn(\"originalTitle\", normalize_text_udf(col(\"originalTitle\")))\n",
        "    return df"
      ],
      "metadata": {
        "id": "ppnDh--kTung"
      },
      "execution_count": 80,
      "outputs": []
    },
    {
      "cell_type": "code",
      "source": [
        "spark_train_df = clean_titles(spark_train_df)\n",
        "spark_train_df.show()"
      ],
      "metadata": {
        "id": "CEiAm5AGXzAQ",
        "outputId": "ddba71a5-b050-4ea8-f455-0acec79ce738",
        "colab": {
          "base_uri": "https://localhost:8080/"
        }
      },
      "execution_count": 81,
      "outputs": [
        {
          "output_type": "stream",
          "name": "stdout",
          "text": [
            "+---------+--------------------+--------------------+--------------+--------+-----+----+\n",
            "|   tconst|        primaryTitle|       originalTitle|runtimeMinutes|numVotes|label|year|\n",
            "+---------+--------------------+--------------------+--------------+--------+-----+----+\n",
            "|tt0011439|   The Mark of Zorro|   The Mark of Zorro|            79|  2439.0| true|1920|\n",
            "|tt0012532|Orphans of the Storm|                 NaN|           150|     NaN| true|1921|\n",
            "|tt0013933|  The Faithful Heart|        Coeur fidele|            87|  1252.0| true|1923|\n",
            "|tt0015400| The Thief of Bagdad|                 NaN|           155|  6001.0| true|1924|\n",
            "|tt0015842|  The Joyless Street|                 NaN|           125|  1554.0| true|1925|\n",
            "|tt0016544|    The Wizard of Oz|                 NaN|            95|  1497.0|false|1925|\n",
            "|tt0016641|Ben-Hur: A Tale o...|Ben-Hur: A Tale o...|           143|  7539.0| true|1925|\n",
            "|tt0017463|           3 Bad Men|           3 Bad Men|            92|  1165.0| true|1926|\n",
            "|tt0018379|          7th Heaven|          7th Heaven|           110|  3499.0| true|1927|\n",
            "|tt0018528|         The Unknown|                 NaN|            63|  7850.0| true|1927|\n",
            "|tt0018684|     Beggars of Life|     Beggars of Life|           100|  1093.0| true|1928|\n",
            "|tt0021884|        Frankenstein|        Frankenstein|            70| 69780.0| true|1931|\n",
            "|tt0022787|      Wooden Crosses|                 NaN|           115|  1409.0| true|1932|\n",
            "|tt0023303|   One Hour with You|   One Hour with You|            78|  2389.0| true|1932|\n",
            "|tt0023937|       Passing Fancy|          Dekigokoro|           100|  1306.0| true|1933|\n",
            "|tt0024127|Our Flags Lead Us...|                 NaN|            95|  1733.0|false|1933|\n",
            "|tt0024902|          Blue Steel|          Blue Steel|            54|  1546.0|false|1934|\n",
            "|tt0025898|                Toni|                Toni|            84|  1766.0| true|1935|\n",
            "|tt0028021|         Osaka Elegy|                 NaN|            71|  2253.0| true|1936|\n",
            "|tt0028708|Charlie Chan at t...|Charlie Chan at t...|            71|     NaN| true|1937|\n",
            "+---------+--------------------+--------------------+--------------+--------+-----+----+\n",
            "only showing top 20 rows\n",
            "\n"
          ]
        }
      ]
    },
    {
      "cell_type": "code",
      "source": [],
      "metadata": {
        "id": "h8uw0fJLX3Mx"
      },
      "execution_count": null,
      "outputs": []
    }
  ],
  "metadata": {
    "kernelspec": {
      "display_name": "Python 3.13.0 64-bit",
      "language": "python",
      "name": "python3"
    },
    "language_info": {
      "codemirror_mode": {
        "name": "ipython",
        "version": 3
      },
      "file_extension": ".py",
      "mimetype": "text/x-python",
      "name": "python",
      "nbconvert_exporter": "python",
      "pygments_lexer": "ipython3",
      "version": "3.13.0"
    },
    "orig_nbformat": 4,
    "vscode": {
      "interpreter": {
        "hash": "551fd68e30ca91e93e17c4a026561b6b886979137c5fe7e80f232fda1837785b"
      }
    },
    "colab": {
      "provenance": []
    }
  },
  "nbformat": 4,
  "nbformat_minor": 0
}