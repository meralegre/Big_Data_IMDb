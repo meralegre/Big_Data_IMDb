{
  "cells": [
    {
      "cell_type": "code",
      "execution_count": 47,
      "metadata": {
        "id": "WHr-6_j4Lhn-"
      },
      "outputs": [],
      "source": [
        "import pandas as pd\n",
        "import os\n",
        "import json\n",
        "import re\n",
        "import requests\n",
        "from pathlib import Path\n",
        "\n",
        "from tqdm import tqdm\n",
        "# import pyspark\n",
        "import pyspark.sql.functions as F\n",
        "from pyspark.sql import SparkSession\n",
        "from pyspark.sql.types import StructType, StructField, ArrayType, StringType, IntegerType, FloatType\n",
        "\n",
        "from pyspark.ml import Pipeline"
      ]
    },
    {
      "cell_type": "code",
      "source": [
        "# !git clone https://github.com/meralegre/Big_Data_IMDb.git\n",
        "#!cd Big_Data_IMDb/\n",
        "!ls -l"
      ],
      "metadata": {
        "colab": {
          "base_uri": "https://localhost:8080/"
        },
        "id": "KalMBJzMMgJF",
        "outputId": "ca6981fd-ff2f-43db-a017-8fb6fc82486f"
      },
      "execution_count": 61,
      "outputs": [
        {
          "output_type": "stream",
          "name": "stdout",
          "text": [
            "total 4\n",
            "drwxr-xr-x 4 root root 4096 Mar 11 21:53 Big_Data_IMDb\n"
          ]
        }
      ]
    },
    {
      "cell_type": "markdown",
      "metadata": {
        "id": "4EtkPw1zLhoA"
      },
      "source": [
        "### Load data with Spark"
      ]
    },
    {
      "cell_type": "code",
      "execution_count": 48,
      "metadata": {
        "id": "FX23Z9RzLhoC"
      },
      "outputs": [],
      "source": [
        "spark = SparkSession.builder \\\n",
        "    .master(\"local\") \\\n",
        "    .config(\"spark.driver.bindAddress\",\"127.0.0.1\") \\\n",
        "    .getOrCreate()\n",
        "\n",
        "# spark = SparkSession.builder.appName(\"BERT-FineTuning\").getOrCreate()"
      ]
    },
    {
      "cell_type": "code",
      "execution_count": 53,
      "metadata": {
        "id": "Mmg0gyebLhoD"
      },
      "outputs": [],
      "source": [
        "def load_train_data():\n",
        "    path = \"data/train/\"\n",
        "    train_files = os.listdir(path=path)\n",
        "\n",
        "    train_df = pd.DataFrame()\n",
        "    for file in train_files:\n",
        "        if file.startswith('train-') and file.endswith('.csv'):\n",
        "            df = pd.read_csv(f\"{path}/{file}\")\n",
        "            train_df = pd.concat([train_df, df], ignore_index=False)\n",
        "            train_df = train_df.drop(columns=\"Unnamed: 0\")\n",
        "\n",
        "    # train_df = train_df.sort_index()\n",
        "    spark_train_df = spark.createDataFrame(train_df).replace(to_replace='\\\\N', value=None)\n",
        "    return spark_train_df"
      ]
    },
    {
      "cell_type": "code",
      "source": [
        "def load_validation_data():\n",
        "    path = \"data/\"\n",
        "    validation_dfdf = pd.read_csv(f\"{path}/validation_hidden.csv\", index_col=[0])\n",
        "    #validation_df = validation_df.sort_index()\n",
        "    validation_df = validation_df.drop(columns=\"Unnamed: 0\")\n",
        "    spark_validation_df = spark.createDataFrame(validation_df).replace(to_replace='\\\\N', value=None)\n",
        "    return spark_validation_df\n",
        "\n",
        "def load_test_data():\n",
        "    path = \"data/\"\n",
        "    test_df = pd.read_csv(f\"{path}/test_hidden.csv\", index_col=[0])\n",
        "    # test_df = test_df.sort_index()\n",
        "    test_df = test_df.drop(columns=\"Unnamed: 0\")\n",
        "    spark_test_df = spark.createDataFrame(test_df).replace(to_replace='\\\\N', value=None)\n",
        "    return spark_test_df\n"
      ],
      "metadata": {
        "id": "MU5bR1j6LnII"
      },
      "execution_count": 52,
      "outputs": []
    },
    {
      "cell_type": "code",
      "source": [
        "train_data = load_train_data()\n",
        "train_data.show()"
      ],
      "metadata": {
        "colab": {
          "base_uri": "https://localhost:8080/",
          "height": 287
        },
        "id": "OcR0mLCzMXR4",
        "outputId": "b1d1243b-c248-4827-cff2-38c45dc133e1"
      },
      "execution_count": 54,
      "outputs": [
        {
          "output_type": "error",
          "ename": "FileNotFoundError",
          "evalue": "[Errno 2] No such file or directory: 'data/train/'",
          "traceback": [
            "\u001b[0;31m---------------------------------------------------------------------------\u001b[0m",
            "\u001b[0;31mFileNotFoundError\u001b[0m                         Traceback (most recent call last)",
            "\u001b[0;32m<ipython-input-54-cbe6eb122a71>\u001b[0m in \u001b[0;36m<cell line: 0>\u001b[0;34m()\u001b[0m\n\u001b[0;32m----> 1\u001b[0;31m \u001b[0mtrain_data\u001b[0m \u001b[0;34m=\u001b[0m \u001b[0mload_train_data\u001b[0m\u001b[0;34m(\u001b[0m\u001b[0;34m)\u001b[0m\u001b[0;34m\u001b[0m\u001b[0;34m\u001b[0m\u001b[0m\n\u001b[0m\u001b[1;32m      2\u001b[0m \u001b[0mtrain_data\u001b[0m\u001b[0;34m.\u001b[0m\u001b[0mshow\u001b[0m\u001b[0;34m(\u001b[0m\u001b[0;34m)\u001b[0m\u001b[0;34m\u001b[0m\u001b[0;34m\u001b[0m\u001b[0m\n",
            "\u001b[0;32m<ipython-input-53-4602d15094bc>\u001b[0m in \u001b[0;36mload_train_data\u001b[0;34m()\u001b[0m\n\u001b[1;32m      1\u001b[0m \u001b[0;32mdef\u001b[0m \u001b[0mload_train_data\u001b[0m\u001b[0;34m(\u001b[0m\u001b[0;34m)\u001b[0m\u001b[0;34m:\u001b[0m\u001b[0;34m\u001b[0m\u001b[0;34m\u001b[0m\u001b[0m\n\u001b[1;32m      2\u001b[0m     \u001b[0mpath\u001b[0m \u001b[0;34m=\u001b[0m \u001b[0;34m\"data/train/\"\u001b[0m\u001b[0;34m\u001b[0m\u001b[0;34m\u001b[0m\u001b[0m\n\u001b[0;32m----> 3\u001b[0;31m     \u001b[0mtrain_files\u001b[0m \u001b[0;34m=\u001b[0m \u001b[0mos\u001b[0m\u001b[0;34m.\u001b[0m\u001b[0mlistdir\u001b[0m\u001b[0;34m(\u001b[0m\u001b[0mpath\u001b[0m\u001b[0;34m=\u001b[0m\u001b[0mpath\u001b[0m\u001b[0;34m)\u001b[0m\u001b[0;34m\u001b[0m\u001b[0;34m\u001b[0m\u001b[0m\n\u001b[0m\u001b[1;32m      4\u001b[0m \u001b[0;34m\u001b[0m\u001b[0m\n\u001b[1;32m      5\u001b[0m     \u001b[0mtrain_df\u001b[0m \u001b[0;34m=\u001b[0m \u001b[0mpd\u001b[0m\u001b[0;34m.\u001b[0m\u001b[0mDataFrame\u001b[0m\u001b[0;34m(\u001b[0m\u001b[0;34m)\u001b[0m\u001b[0;34m\u001b[0m\u001b[0;34m\u001b[0m\u001b[0m\n",
            "\u001b[0;31mFileNotFoundError\u001b[0m: [Errno 2] No such file or directory: 'data/train/'"
          ]
        }
      ]
    },
    {
      "cell_type": "code",
      "source": [],
      "metadata": {
        "id": "wvoKxUmUMdjt"
      },
      "execution_count": null,
      "outputs": []
    }
  ],
  "metadata": {
    "kernelspec": {
      "display_name": "Python 3.13.0 64-bit",
      "language": "python",
      "name": "python3"
    },
    "language_info": {
      "codemirror_mode": {
        "name": "ipython",
        "version": 3
      },
      "file_extension": ".py",
      "mimetype": "text/x-python",
      "name": "python",
      "nbconvert_exporter": "python",
      "pygments_lexer": "ipython3",
      "version": "3.13.0"
    },
    "orig_nbformat": 4,
    "vscode": {
      "interpreter": {
        "hash": "551fd68e30ca91e93e17c4a026561b6b886979137c5fe7e80f232fda1837785b"
      }
    },
    "colab": {
      "provenance": []
    }
  },
  "nbformat": 4,
  "nbformat_minor": 0
}